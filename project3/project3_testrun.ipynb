{
 "cells": [
  {
   "cell_type": "markdown",
   "metadata": {},
   "source": [
    "# Project 3"
   ]
  },
  {
   "cell_type": "markdown",
   "metadata": {},
   "source": [
    "### Test runs displaying the optimal parameters and scores for the different methods used. For grid search figures see the project report or the Figures folder in the Github repository."
   ]
  },
  {
   "cell_type": "markdown",
   "metadata": {},
   "source": [
    "#### Linear regression analysis (here using Ridge regression without resampling):"
   ]
  },
  {
   "cell_type": "code",
   "execution_count": 1,
   "metadata": {},
   "outputs": [
    {
     "name": "stdout",
     "output_type": "stream",
     "text": [
      "Optimal polynomial degree:\n",
      "18\n",
      "Optimal lambda:\n",
      "0.1\n",
      "--------------------------------\n",
      "Scores:\n",
      "Training MSE:  0.008865323768279471\n",
      "Minimum test MSE:  0.04440097854411347\n",
      "Training R2:  0.9915180446194439\n",
      "Test R2:  0.9456799032330605\n"
     ]
    }
   ],
   "source": [
    "run linear_regression_analysis.py"
   ]
  },
  {
   "cell_type": "markdown",
   "metadata": {},
   "source": [
    "#### FFNN + Sigmoid analysis:"
   ]
  },
  {
   "cell_type": "code",
   "execution_count": 2,
   "metadata": {},
   "outputs": [
    {
     "name": "stderr",
     "output_type": "stream",
     "text": [
      "/Users/Julian/ML-projects/project3/src/activation_functions.py:7: RuntimeWarning: overflow encountered in exp\n",
      "  return 1.0/(1.0 + np.exp(-x))\n",
      "/Users/Julian/ML-projects/project3/src/neuralnetwork.py:109: RuntimeWarning: overflow encountered in matmul\n",
      "  layer.error = np.matmul(forward_error, forward_weights.T) * layer.hidd_act_function_deriv(layer.z_h)\n",
      "/Users/Julian/ML-projects/project3/src/neuralnetwork.py:109: RuntimeWarning: invalid value encountered in multiply\n",
      "  layer.error = np.matmul(forward_error, forward_weights.T) * layer.hidd_act_function_deriv(layer.z_h)\n"
     ]
    },
    {
     "name": "stdout",
     "output_type": "stream",
     "text": [
      "Optimal eta:\n",
      "0.0002\n",
      "Optimal lambda:\n",
      "1e-05\n",
      "--------------------------------\n",
      "Scores:\n",
      "Training MSE:\n",
      "0.021733955463527573\n",
      "Training R2:\n",
      "0.9780692165958412\n",
      "Test MSE:\n",
      "0.028640096537912916\n",
      "Test R2:\n",
      "0.9723184823970802\n"
     ]
    }
   ],
   "source": [
    "run neural_network_analysis.py"
   ]
  },
  {
   "cell_type": "markdown",
   "metadata": {},
   "source": [
    "#### Decision Tree analysis:"
   ]
  },
  {
   "cell_type": "code",
   "execution_count": 3,
   "metadata": {},
   "outputs": [
    {
     "name": "stdout",
     "output_type": "stream",
     "text": [
      "Optimal depth:\n",
      "14.0\n",
      "Optimal lambda:\n",
      "1e-07\n",
      "--------------------------------\n",
      "Scores:\n",
      "Training MSE:\n",
      "0.0038103404149846067\n",
      "Training R2:\n",
      "0.9963544323671214\n",
      "Test MSE:\n",
      "0.058765188189869276\n",
      "Test R2:\n",
      "0.9281067486873145\n"
     ]
    }
   ],
   "source": [
    "run decisiontree_analysis.py"
   ]
  },
  {
   "cell_type": "markdown",
   "metadata": {},
   "source": [
    "#### XGBoost analysis:"
   ]
  },
  {
   "cell_type": "code",
   "execution_count": 4,
   "metadata": {},
   "outputs": [
    {
     "name": "stdout",
     "output_type": "stream",
     "text": [
      "Optimal learning rate:\n",
      "0.07758620689655171\n",
      "Optimal depth:\n",
      "8\n",
      "Optimal lambda:\n",
      "1e-06\n",
      "--------------------------------\n",
      "Scores:\n",
      "Training MSE:\n",
      "1.5114704101977029e-06\n",
      "Training R2:\n",
      "0.9999984572356226\n",
      "Test MSE:\n",
      "2.9620353920375707e-05\n",
      "Test R2:\n",
      "0.9999724951970768\n"
     ]
    }
   ],
   "source": [
    "run XGB_analysis.py"
   ]
  },
  {
   "cell_type": "markdown",
   "metadata": {},
   "source": [
    "## Analysis using the total binding energy, to compare with the two articles discussed in the report:"
   ]
  },
  {
   "cell_type": "markdown",
   "metadata": {},
   "source": [
    "#### Ridge Regression - Article Comparison Analysis"
   ]
  },
  {
   "cell_type": "code",
   "execution_count": 5,
   "metadata": {},
   "outputs": [
    {
     "name": "stdout",
     "output_type": "stream",
     "text": [
      "Optimal polynomial degree:\n",
      "16\n",
      "Optimal lambda:\n",
      "1e-05\n",
      "--------------------------------\n",
      "Scores:\n",
      "Training MSE:\n",
      "1.1778390502182285e-05\n",
      "Training R2:\n",
      "0.9999881014777173\n",
      "Test MSE:\n",
      "1.3490927454859504e-05\n",
      "Test R2:\n",
      "0.9999871866151253\n",
      "---------------- Article ----------------\n",
      "Scores:\n",
      "Article MSE:\n",
      "1.2502624603762905e-05\n",
      "Article R2:\n",
      "0.9999837076567164\n",
      "---------------- RMSD ----------------\n",
      "1.735977845155338\n"
     ]
    }
   ],
   "source": [
    "run nn_linear_article_analysis.py"
   ]
  },
  {
   "cell_type": "markdown",
   "metadata": {},
   "source": [
    "#### FFNN+Sigmod - Article Comparison Analysis"
   ]
  },
  {
   "cell_type": "code",
   "execution_count": 6,
   "metadata": {},
   "outputs": [
    {
     "name": "stderr",
     "output_type": "stream",
     "text": [
      "/Users/Julian/ML-projects/project3/src/activation_functions.py:7: RuntimeWarning: overflow encountered in exp\n",
      "  return 1.0/(1.0 + np.exp(-x))\n",
      "/Users/Julian/ML-projects/project3/src/neuralnetwork.py:109: RuntimeWarning: overflow encountered in matmul\n",
      "  layer.error = np.matmul(forward_error, forward_weights.T) * layer.hidd_act_function_deriv(layer.z_h)\n",
      "/Users/Julian/ML-projects/project3/src/neuralnetwork.py:109: RuntimeWarning: invalid value encountered in multiply\n",
      "  layer.error = np.matmul(forward_error, forward_weights.T) * layer.hidd_act_function_deriv(layer.z_h)\n"
     ]
    },
    {
     "name": "stdout",
     "output_type": "stream",
     "text": [
      "Optimal eta:\n",
      "0.0004\n",
      "Optimal lambda:\n",
      "0.01\n",
      "--------------------------------\n",
      "Scores:\n",
      "Training MSE:\n",
      "9.943515962525269e-05\n",
      "Training R2:\n",
      "0.9998998600436171\n",
      "Test MSE:\n",
      "0.00011247718562896154\n",
      "Test R2:\n",
      "0.9998924153472171\n",
      "---------------- Article ----------------\n",
      "Scores:\n",
      "Article MSE:\n",
      "0.000287786164692449\n",
      "Article R2:\n",
      "0.9996249818629258\n",
      "---------------- RMSD ----------------\n",
      "8.328725299430452\n"
     ]
    }
   ],
   "source": [
    "run nn_linear_article_analysis.py"
   ]
  },
  {
   "cell_type": "markdown",
   "metadata": {},
   "source": [
    "#### Decision Tree - Article Comparison Analysis:"
   ]
  },
  {
   "cell_type": "code",
   "execution_count": 7,
   "metadata": {},
   "outputs": [
    {
     "name": "stdout",
     "output_type": "stream",
     "text": [
      "--------------------------------\n",
      "Scores:\n",
      "Training MSE:\n",
      "1.027838879903233e-09\n",
      "Training R2:\n",
      "0.9999999989635115\n",
      "Test MSE:\n",
      "0.00016703511296068332\n",
      "Test R2:\n",
      "0.9998416087909457\n",
      "---------------- Article ----------------\n",
      "Optimal depth:\n",
      "14\n",
      "Optimal lambda:\n",
      "0.0\n",
      "Scores:\n",
      "Article MSE:\n",
      "0.00031433243059214057\n",
      "Article R2:\n",
      "0.9995903890561638\n",
      "---------------- RMSD ----------------\n",
      "8.704386725312043\n"
     ]
    }
   ],
   "source": [
    "run decisiontree_article_analysis.py"
   ]
  },
  {
   "cell_type": "markdown",
   "metadata": {},
   "source": [
    "#### XGBoost - Article Comparison Analysis:"
   ]
  },
  {
   "cell_type": "code",
   "execution_count": 8,
   "metadata": {},
   "outputs": [
    {
     "name": "stdout",
     "output_type": "stream",
     "text": [
      "--------------------------------\n",
      "Scores:\n",
      "Training MSE:\n",
      "2.7547740514001975e-06\n",
      "Training R2:\n",
      "0.9999972220435599\n",
      "Test MSE:\n",
      "3.3917914352549805e-05\n",
      "Test R2:\n",
      "0.9999678373045782\n",
      "---------------- Article ----------------\n",
      "Optimal learning rate:\n",
      "0.1020408163265306\n",
      "Optimal depth:\n",
      "8\n",
      "Optimal lambda:\n",
      "0.1\n",
      "Scores:\n",
      "Article MSE:\n",
      "0.00013420283098559637\n",
      "Article R2:\n",
      "0.9998251184322218\n",
      "---------------- RMSD ----------------\n",
      "5.687539439432875\n"
     ]
    }
   ],
   "source": [
    "run XGB_article_analysis.py"
   ]
  }
 ],
 "metadata": {
  "kernelspec": {
   "display_name": "Python 3",
   "language": "python",
   "name": "python3"
  },
  "language_info": {
   "codemirror_mode": {
    "name": "ipython",
    "version": 3
   },
   "file_extension": ".py",
   "mimetype": "text/x-python",
   "name": "python",
   "nbconvert_exporter": "python",
   "pygments_lexer": "ipython3",
   "version": "3.7.3"
  }
 },
 "nbformat": 4,
 "nbformat_minor": 4
}
