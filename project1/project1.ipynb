{
 "cells": [
  {
   "cell_type": "markdown",
   "metadata": {},
   "source": [
    "Import "
   ]
  },
  {
   "cell_type": "code",
<<<<<<< HEAD
   "execution_count": 25,
=======
   "execution_count": 1,
>>>>>>> master
   "metadata": {},
   "outputs": [],
   "source": [
    "import os\n",
    "import numpy as np\n",
    "import pandas as pd\n",
    "import matplotlib.pyplot as plt\n",
    "import sklearn.linear_model as skl\n",
    "from sklearn.metrics import mean_squared_error\n",
    "from sklearn.model_selection import  train_test_split, KFold\n",
    "from sklearn.preprocessing import MinMaxScaler, StandardScaler, Normalizer\n",
    "from sklearn.model_selection import KFold\n",
    "\n",
    "\n",
    "from numpy.random import randint, randn, shuffle\n",
    "from time import time\n",
    "from scipy.stats import norm\n",
    "from sklearn.utils import resample"
   ]
  },
  {
   "cell_type": "markdown",
   "metadata": {},
   "source": [
    "Define Franke function"
   ]
  },
  {
   "cell_type": "code",
   "execution_count": 2,
   "metadata": {},
   "outputs": [],
   "source": [
    "def FrankeFunction(x,y):\n",
    "\tterm1 = 0.75*np.exp(-(0.25*(9*x-2)**2) - 0.25*((9*y-2)**2))\n",
    "\tterm2 = 0.75*np.exp(-((9*x+1)**2)/49.0 - 0.1*(9*y+1))\n",
    "\tterm3 = 0.5*np.exp(-(9*x-7)**2/4.0 - 0.25*((9*y-3)**2))\n",
    "\tterm4 = -0.2*np.exp(-(9*x-4)**2 - (9*y-7)**2)\n",
    "\treturn term1 + term2 + term3 + term4"
   ]
  },
  {
   "cell_type": "markdown",
   "metadata": {},
   "source": [
    "Create design matrix for for two dimensions"
   ]
  },
  {
   "cell_type": "code",
   "execution_count": 3,
   "metadata": {},
   "outputs": [],
   "source": [
    "def create_X(x, y, n):\n",
    "    #n is the order of the polynomial, in this project it will be 5\n",
    "    if len(x.shape) > 1:\n",
    "        x = np.ravel(x)\n",
    "        y = np.ravel(y)\n",
    "    N = len(x)\n",
    "    p = int((n+1)*(n+2)/2)  #Number of elements in beta, \n",
    "    X = np.ones((N, p))\n",
    "    \n",
    "    for i in range(1,n+1):\n",
    "        q = int(i*(i+1)/2)\n",
    "        for k in range(i+1):\n",
    "            X[:,q+k] = (x**(i-k))*(y**k)\n",
    "    \n",
    "    return X"
   ]
  },
  {
   "cell_type": "markdown",
   "metadata": {},
   "source": [
    "Define R2 score function"
   ]
  },
  {
   "cell_type": "code",
   "execution_count": 4,
   "metadata": {},
   "outputs": [],
   "source": [
    "def R2(y_data, y_model):\n",
    "    return 1 - np.sum((y_data - y_model) ** 2) / np.sum((y_data - np.mean(y_data)) ** 2)"
   ]
  },
  {
   "cell_type": "markdown",
   "metadata": {},
   "source": [
    "Define Mean Squared Error (MSE) function"
   ]
  },
  {
   "cell_type": "code",
   "execution_count": 5,
   "metadata": {},
   "outputs": [],
   "source": [
    "def MSE(y_data,y_model):\n",
    "    return np.sum((y_data-y_model)**2)/np.size(y_model)"
   ]
  },
  {
   "cell_type": "markdown",
   "metadata": {},
   "source": [
    "Make design matrix\n",
    "\n",
    "Normal distributed noise is added to the Franke-function "
   ]
  },
  {
   "cell_type": "code",
   "execution_count": 6,
   "metadata": {},
   "outputs": [],
   "source": [
    "n = 100 #size of x and y\n",
    "N = 5 #polynomial degree\n",
    "noise_factor = 0.01\n",
    "\n",
    "x = np.random.uniform(0,1,n)\n",
    "y = np.random.uniform(0,1,n)\n",
    "noise = noise_factor*np.random.randn(100,1)\n",
    "z = FrankeFunction(x,y) + noise\n",
    "\n",
    "X = create_X(x, y, N)\n",
    "\n",
    "DesignMatrix = pd.DataFrame(X)\n",
    "#display(DesignMatrix)"
   ]
  },
  {
   "cell_type": "markdown",
   "metadata": {},
   "source": [
    "Perform the Ordinary Least Square (OLS) method and print the MSE and R2 results"
   ]
  },
  {
   "cell_type": "code",
   "execution_count": 7,
   "metadata": {},
   "outputs": [
    {
     "name": "stdout",
     "output_type": "stream",
     "text": [
      "Training R2\n",
<<<<<<< HEAD
      "0.9990250336603145\n",
=======
<<<<<<< HEAD
      "0.99903669733066\n",
      " \n",
      "Training MSE\n",
      "0.007797820797984548\n",
      " \n",
      "Test R2\n",
      "0.9977413398898903\n",
      " \n",
      "Test MSE\n",
      "0.018281148482861127\n"
=======
      "0.9992163768796233\n",
>>>>>>> 86eed3db24291e7ecff1714d2990db51ab8475b8
      " \n",
      "Training MSE\n",
      "8.133836899020493e-05\n",
      " \n",
      "Test R2\n",
      "0.992706624215573\n",
      " \n",
      "Test MSE\n",
<<<<<<< HEAD
      "0.0006080366661153657\n"
=======
      "0.0008130993830182441\n"
>>>>>>> master
>>>>>>> 86eed3db24291e7ecff1714d2990db51ab8475b8
     ]
    }
   ],
   "source": [
    "X_train, X_test, z_train, z_test = train_test_split(X,z,test_size=0.2)\n",
    "\n",
    "scaler = StandardScaler()\n",
    "scaler.fit(X_train)\n",
    "X_train_scaled = scaler.transform(X_train)\n",
    "X_test_scaled = scaler.transform(X_test)\n",
    "\n",
    "beta = np.linalg.inv(X_train.T @ X_train) @ X_train.T @ z_train\n",
    "\n",
    "z_tilde = X_train @ beta\n",
    "z_predict = X_test @ beta\n",
    "\n",
    "print(\"Training R2\")\n",
    "print(R2(z_train,z_tilde))\n",
    "print(' ')\n",
    "print(\"Training MSE\")\n",
    "print(MSE(z_train,z_tilde))\n",
    "print(' ')\n",
    "print(\"Test R2\")\n",
    "print(R2(z_test,z_predict))\n",
    "print(' ')\n",
    "print(\"Test MSE\")\n",
    "print(MSE(z_test,z_predict))"
   ]
  },
  {
   "cell_type": "markdown",
   "metadata": {},
   "source": [
    "Study the bias-variance trade-off by plotting the MSE for increasing model complexity (i.e. the number of polynomials)"
   ]
  },
  {
   "cell_type": "code",
<<<<<<< HEAD
   "execution_count": 23,
=======
   "execution_count": 8,
>>>>>>> master
   "metadata": {},
   "outputs": [
    {
     "data": {
<<<<<<< HEAD
      "image/png": "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\n",
=======
      "image/png": "iVBORw0KGgoAAAANSUhEUgAAAYoAAAEGCAYAAAB7DNKzAAAABHNCSVQICAgIfAhkiAAAAAlwSFlzAAALEgAACxIB0t1+/AAAADh0RVh0U29mdHdhcmUAbWF0cGxvdGxpYiB2ZXJzaW9uMy4xLjAsIGh0dHA6Ly9tYXRwbG90bGliLm9yZy+17YcXAAAgAElEQVR4nO3deXhU5fXA8e/JZE8gQAhrgABhzQKExQV3xBVwB9dWcavWatufVu3iVm1ptdZaqxatVauiuIEKKiAg0qpsQoCA7ELYspGQjSQz8/7+uJMhhOxMcicz5/M888zMXc9MJnPmvu97zxVjDEoppVR9QuwOQCmllH/TRKGUUqpBmiiUUko1SBOFUkqpBmmiUEop1aBQuwNoDV27djVJSUl2h6GUUu3G6tWr84wxCXXNC8hEkZSUxKpVq+wOQyml2g0R+aG+edr0pJRSqkGaKJRSSjVIE4VSSqkGBVQfhYhMBiYnJycfN6+qqors7GyOHDnS9oEp5REZGUliYiJhYWF2h6JUk0kg1noaM2aMqd2ZvXPnTjp06EB8fDwiYlNkKpgZY8jPz6e4uJj+/fvbHY5SxxCR1caYMXXNC5qmpyNHjmiSULYSEeLj4/WoVrU7QZMoAE0Synb6GVTtUVAlCqWUCli5W+CLx6AVuhM0UbQhEeGGG27wPnc6nSQkJDBp0iQADh48yKRJkxgxYgTDhw/noosuAmDXrl1ERUUxcuRI7+31119v8n4LCwt5/vnnWxTzRRddRGFhYYPLPPTQQyxatKhF21dK+cCOL+Ff58Lq1+DwXp9vPqBGPfm7mJgYNmzYQHl5OVFRUSxcuJDevXt75z/00ENMnDiRe+65B4DMzEzvvIEDB7J27doW7bc6Udx5553HzXO5XDgcjnrXnT9/fqPbf+yxx1oUl1LKB757Az6+B+KT4dp3IC7R57vQI4o2duGFFzJv3jwAZs2axTXXXOOdt3//fhITj/6R09PTfbLPBx54gO3btzNy5Ejuu+8+li5dytlnn821115LWloaAJdeeimjR48mJSWFmTNnetdNSkoiLy+PXbt2MWzYMG699VZSUlI477zzKC8vB+DGG2/kvffe8y7/8MMPk5GRQVpaGps3bwYgNzeXiRMnkpGRwe23306/fv3Iy8vzyetTKii53bDoEZj7U0g6HaZ/Dp2TWmVXQXlE8ejHG8nad9in2xzeqyMPT05pdLmrr76axx57jEmTJpGZmcn06dP56quvAPjpT3/KtGnTeO655zj33HO56aab6NWrF4D3i77a3//+d04//fQmxTZjxgw2bNjgPSJZunQpK1asYMOGDd5hmq+88gpdunShvLycsWPHcsUVVxAfH3/MdrZu3cqsWbN46aWXmDp1Ku+//z7XX3/9cfvr2rUra9as4fnnn+epp57i5Zdf5tFHH+Wcc87hwQcf5LPPPjsmGSmlmqmqHD68HbLmwugb4aKnwNF65+YEZaKwU3p6Ort27WLWrFnePohq559/Pjt27OCzzz7j008/ZdSoUWzYsAE4saanuowbN+6YsfzPPvssH374IQB79uxh69atxyWK/v37e5PV6NGj2bVrV53bvvzyy73LfPDBBwAsX77cu/0LLriAzp07++y1KBVUSnJg1tWwdw2c9zicche08mi6oEwUTfnl35qmTJnCvffey9KlS8nPzz9mXpcuXbj22mu59tprmTRpEsuWLWP06NGNbvPbb7/l9ttvB6w+gylTpjS4fExMjPfx0qVLWbRoEV9//TXR0dGcddZZdY71j4iI8D52OBzepqf6lnM4HDidTsA62UwpdYIOZsFb06AsD6a9AcMmtclugzJR2G369OnExcWRlpbG0qVLvdMXL17MySefTHR0NMXFxWzfvp2+ffs2aZsnnXRSvUccHTp0oLi4uN51i4qK6Ny5M9HR0WzevJlvvvmmWa+nKU477TRmz57N/fffz4IFCzh06JDP96FUQNv2Bbx7I4RFw03zodeoNtu1dmbbIDEx0TuyqabVq1czZswY0tPTOeWUU7jlllsYO3YscLSPovr27LPPNnl/8fHxjB8/ntTUVO67777j5l9wwQU4nU7S09P53e9+x8knn9zyF1ePhx9+mAULFpCRkcGnn35Kz5496dChg8/3o1RAWvUKvHkVdOoLt37RpkkCgqjW06ZNmxg2bJhNEamKigocDgehoaF8/fXX3HHHHT7tc2lP9LOomsztgoUPwdfPwaDz4MpXIKJ1fmA1VOtJm55Um9i9ezdTp07F7XYTHh7OSy+9ZHdISvm3ylJ4/1b4fh6Mux3O/wM47PnK9vtEISIDgN8AccaYK+2OR7XMoEGD+O677+wOQ6n24fB+mDUNDqyHC/8MJ91uazi29FGIyCsikiMiG2pNv0BEvheRbSLyAIAxZocx5mY74lRKqTa3PxNeOgfyt8M1b9ueJMC+zuxXgQtqThARB/AP4EJgOHCNiAxv+9CUUsomWz6HVy6wzouY/hkMPt/uiACbEoUxZhlQUGvyOGCb5wiiEngbuKSp2xSR20RklYisys3N9WG0SinVBr550TqRrmsy3PIF9EizOyIvfxoe2xvYU+N5NtBbROJF5EVglIg8WN/KxpiZxpgxxpgxCQkJrR2rUkr5hssJ8++Dz+6HwRfCTZ9Cx552R3UMf0oUdZ2Dbowx+caYnxhjBhpj/tjmUflQeywzDvDMM89QVlZW57yvvvqKlJQURo4cWe+Z2r7w6quvctddd53wdpr6XvzhD3844X0p1agjh62jiBUzrVIc0/4D4TGNr9fG/ClRZAN9ajxPBPY1ZwMiMllEZhYVFfk0MF+pWWYcqLfM+Lp168jKymLGjBneedW1nqpvP/rRj5q839ZMFG+++Sb33nsva9euJSoqyjvd5XK1eH+t6UQThTEGt9vt67BUMCrKtvojti+GSX+F85+AkPpL/tvJnxLFSmCQiPQXkXDgauCj5mzAGPOxMea2uLi4VgnQF/yhzDjAk08+ydixY0lPT+fhhx8GoLS0lIsvvpgRI0aQmprKO++8w7PPPsu+ffs4++yzOfvss4/Z7ssvv8zs2bN57LHHuO666+osX/7000+TmppKamoqzzzzDGAdIQ0dOpRbbrmF1NRUrrvuOhYtWsT48eMZNGgQK1asqPN17NmzhwsuuIAhQ4bw6KOPeqfXtY/6ptd+L/bv388ZZ5zByJEjSU1N5auvvuKBBx6gvLyckSNHct1113lLrN95551kZGSwZ88e7rjjDsaMGUNKSor3/QOrzPr999/PuHHjGDduHNu2bTvRP58KRHvXWCObivbAde/CmOl2R9QwY0yb34BZwH6gCutI4mbP9IuALcB24Dct3f7o0aNNbVlZWUefzL/fmFcu8u1t/v3H7bO2mJgYs27dOnPFFVeY8vJyM2LECLNkyRJz8cUXG2OM+eyzz0xcXJw566yzzOOPP2727t1rjDFm586dJjIy0owYMcJ7W7ZsWaP7q7Zz506TkpLiff7555+bW2+91bjdbuNyuczFF19svvzyS/Pee++ZW265xbtcYWGhMcaYfv36mdzc3Dq3/eMf/9i8++67xhhjlixZYqKjo82OHTuMMcasWrXKpKammpKSElNcXGyGDx9u1qxZY3bu3GkcDofJzMw0LpfLZGRkmJtuusm43W4zZ84cc8kllxy3n3//+9+mR48eJi8vz5SVlZmUlBSzcuXKevfR0L5rvhdPPfWUefzxx40xxjidTnP48GHv36rm+yci5uuvv/ZOy8/P965z5plnmnXr1nnfq+rtvfbaa96/bU3HfBZV8Dm4yZjHexjzdKoxB/3nswCsMvV8p9pywp0x5pp6ps8HGr+kWj1EZDIwOTk5uaWbaHX+UGZ8wYIFLFiwgFGjrHoxJSUlbN26ldNPP517772X+++/n0mTJjX5ehc11Sxfvnz5ci677DJvpdrLL7+cr776iilTptC/f3/vUUdKSgoTJkxAREhLS6u3fPnEiRO9pc8vv/xyli9fjojUuQ9jTL37rmns2LFMnz6dqqoqLr300mOu+VFTv379jqmBNXv2bGbOnInT6WT//v1kZWV5jwCrjxKvueYafvGLXzT7PVQBbtEjEBIGtyyEDj3sjqZJ/P7M7OYwxnwMfDxmzJhbG1zwwhkNzm5tdpcZN8bw4IMPepevafXq1cyfP58HH3yQ8847j4ceeqhZr61m+XLTQB2xmiXLQ0JCvM9DQkK8pclrk1o190Wk3n00tO+azjjjDJYtW8a8efO44YYbuO++++rs/6n5unbu3MlTTz3FypUr6dy5MzfeeOMxZdlrxlk7ZhXkfvgfbPkUzn2k3SQJ8K8+iqAxffp0HnroIe8v6mqLFy/2dhq3tMz42rVrj0sStcuMn3/++bzyyiuUlJQAsHfvXnJycti3bx/R0dFcf/313HvvvaxZs6bO9ZvqjDPOYM6cOZSVlVFaWsqHH37YoqOUagsXLqSgoIDy8nLmzJnD+PHj691HfdNrv5YffviBbt26ceutt3LzzTd7X3NYWBhVVVV1xnH48GFiYmKIi4vj4MGDfPrpp8fMf+edd7z3p5xySotfrwowxsDCh6FDLzjpJ3ZH0ywBdUTRHpqeoOEy43fddRehoaG43W5vmfFdu3YddynU6dOnc/fddzdpfzXLjF944YU8+eSTbNq0yfslFhsbyxtvvMG2bdu47777CAkJISwsjBdeeAGA2267jQsvvJCePXuyZMmSJr/OjIwMbrzxRsaNGwfALbfcwqhRo+ptWmrMaaedxg033MC2bdu49tprGTPGKnRZ1z4aml7zvUhNTeXJJ58kLCyM2NhY77Dj2267jfT0dDIyMnjiiSeOiWPEiBGMGjWKlJQUBgwYwPjx44+ZX1FRwUknnYTb7WbWrFkteq0qAG3+BLJXwJS/Q1hU48v7ES0zrpQPJSUlsWrVKrp27VrvMvpZDEIuJzx/MkgI3PE/26rANkTLjCullJ3WvgH5W+Hqt/wySTSm/UWslB9rabOaCmCVZbDkj9DnJBhyUePL+yFNFEop1Zq+fQFKDsDU16yqsO1QQI168vcSHkqpIFNWAMufgSEXQ1/fX4u+rQRUojDtoISHUiqIfPUXqCyBCc07H8nfBFSiUEopv1G426oKO/I66DbU7mhOiCaKNhSIZcaVUvVY/IQ1HPasei+j024EVGe2v59wV7PMeFRUVL1lxqtPxsvMzPTOO5FaT9WJ4s4772zR+s888wzXX3890dHRLVpfqaBzYD1kvgPj74G43o0v7+cC6oiiPfRRBFKZcaVUPRY9CpFxcNrP7Y7EJwLqiKKp/rTiT2wu2OzTbQ7tMpT7x93f6HJXX301jz32GJMmTSIzM5Pp06fz1VdfAfDTn/6UadOm8dxzz3Huuedy00030atXL4DjSnj8/e9/b3LdpBkzZrBhwwbvEcmCBQvYunUrK1aswBjDlClTWLZsGbm5ufTq1cubyIqKioiLi+Ppp59myZIlDZ5trJTy2LkMti2Eib+HqM52R+MTQZko7BToZcaVCmrVhf86JsK42+yOxmeCMlE05Zd/awrkMuNKBbWsubBvDVzyPIRF2h2NzwRlorDb9OnTiYuLIy0tjaVLl3qnL168mJNPPpno6OgWlxmvS11lxn/3u99x3XXXERsby969ewkLC8PpdNKlSxeuv/56YmNjefXVV49ZX5uelGqAqwq+eAy6DYcRV9sdjU8FVKLw91FP1YKlzLhSQWXN61CwHa6dDSEOu6PxKS0zrlQb089iAKoogWdHQddBcOO8dlnTScuMK6VUa/rmeSjNscqIt8Mk0ZiAOo9CKaXaXGke/PdvMGwy9BlrdzStIqgSRSA2s6n2RT+DAWjZk1BVDhMetjuSVhM0iSIyMpL8/Hz9R1W2McaQn59PZGTgDJsMegU7YeW/IOMGq38iQAVNH0ViYiLZ2dnk5ubaHYoKYpGRkceUaVHt3JInICQUznzA7khaVdAkirCwMPr37293GEqpQLF/Hax/F07/P+jY0+5oWlVANT3pFe6UUm1m0SMQ1cWqEBvgAipRtIfqsUqpALB9CWxfDGfcZ1WJDXABlSiUUqrVud2w6GGI6wtjb7Y7mjYRNH0USinlExs/sPonLpsJoRF2R9Mm9IhCKaWaylkJi38P3dMg7Sq7o2kzekShlFJNtfpVOLQLrnsfQoLnd3bwvFKllDoRFcXw5Z8g6XRInmB3NG1KE4VSSjXF/56DsjyY+GhAFv5riCYKpZRqTEkO/O/vMPxS6N34FScDjSYKpZRqzJd/AlcFTAjOSwNrolBKqYbkb7c6sUffCPED7Y7GFgGVKLSEh1LK5xb/HhwRcMav7I7ENgGVKLSEh1LKp/auho0fwql3QYfudkdjm4BKFEop5VOLHoXornDKXXZHYitNFEopVZeCnbDzS+toIrKj3dHYShOFUkrVZdNH1n3qFfbG4Qc0USilVF02zoFeGdCpr92R2E4ThVJK1Va4G/atgeGX2B2JX9BEoZRStWV5mp2GT7E3Dj+hiUIppWrLmgs90qHLALsj8QuaKJRSqqaibMheASmX2h2J39BEoZRSNW362Lofpv0T1TRRKKVUTVlzoXsqdE22OxK/oYlCKaWqHd4Pu7/R0U61aKJQSqlqmz4GjHXdCeWliUIppaplzYWEYZAw2O5I/IrfJwoRiRGR10TkJRG5zu54lFIBqiQHfvivNjvVwZZEISKviEiOiGyoNf0CEfleRLaJyAOeyZcD7xljbgX07BelVOvwNjtpoqjNriOKV4ELak4QEQfwD+BCYDhwjYgMBxKBPZ7FXG0Yo1IqmGTNga6DodswuyPxO7YkCmPMMqCg1uRxwDZjzA5jTCXwNnAJkI2VLKCBeEXkNhFZJSKrcnNzWyNspVSgKs2DXcutowkRu6PxO/7UR9Gbo0cOYCWI3sAHwBUi8gLwcX0rG2NmGmPGGGPGJCQktG6kSqnAsvkTMG5tdqpHqN0B1FBXGjfGmFLgprYORikVRLLmWnWduqfaHYlf8qcjimygT43nicC+5mxARCaLyMyioiKfBqaUCmBlBbDjS212aoA/JYqVwCAR6S8i4cDVwEfN2YAx5mNjzG1xcXGtEqBSKgBtngfGpSfZNcCu4bGzgK+BISKSLSI3G2OcwF3A58AmYLYxZqMd8SmlgkjWXOjUD3qOsDsSv2VLH4Ux5pp6ps8H5rd0uyIyGZicnKzFvJRSTVB+CHYshZPv0GanBvhT09MJ06YnpVSzfP8ZuKu02akRAZUolFKqWbLmQFwf6J1hdyR+LaAShY56Uko12ZEi2L5YRzs1QUAlCm16Uko12ZbPwVWpJ9k1QUAlCqWUarKsudChF/QeY3ckfk8ThVIq+FQUw9aF1tFEiH4NNiag3iHto1BKNcmWz8FVoc1OTRRQiUL7KJRSTZI1F2J7QJ+T7I6kXQioRKGUUo2qLLWanYZN1manJtJ3SSkVXLYuBGe5Njs1Q4OJQkSur/F4fK15d7VWUEop1Wqy5kBMAvQ71e5I2o3Gjih+WePx32vNm+7jWE6YdmYrpRpUWQZbFnianRx2R9NuNJYopJ7HdT23nXZmK6UatP0LqCrVZqdmaixRmHoe1/VcKaX8W9ZciI6HfqfZHUm70liZ8aEikol19DDQ8xjP8wGtGplSSvlS1RGrWmzq5eDwp6tA+7/G3q1hbRKFUkq1tu2LobJYm51aoMFEYYz5oeZzEYkHzgB2G2NWt2ZgSinlU1lzIbIT9D/D7kjancaGx34iIqmexz2BDVijnf4jIj9vg/iaRUc9KaXq5KyA7z+FoZPAEWZ3NO1OY53Z/Y0xGzyPbwIWGmMmAyfhh8NjddSTUqpOO5ZCRRGk6JXsWqKxRFFV4/EEPNezNsYUA+7WCkoppXwqay5ExEH/M+2OpF1qrDN7j4j8DMgGMoDPAEQkCtDjN6WU/3NWwuZPYOhFEBpudzTtUmNHFDcDKcCNwDRjTKFn+snAv1sxLqWU8o1dy6zLnupopxZrbNRTDvCTOqYvAZa0VlBKKeUzG+dAeAcYeI7dkbRbDSYKEfmoofnGmCm+DUcppXzIVWU1Ow25EEIj7I6m3Wqsj+IUYA8wC/gWP6zvpJRS9dq1HMoPabPTCWosUfQAJgLXANcC84BZxpiNrR1YS4jIZGBycnKy3aEopfxB1lwIi4HkCXZH0q412JltjHEZYz4zxvwYqwN7G7DUMxLK7+h5FEopL7cLNn0Mg8+HsCi7o2nXGq2MJSIRwMVYRxVJwLPAB60bllJKnaAf/gtleXqSnQ801pn9GpAKfAo8WuMsbaWU8m9ZcyEsGpIn2h1Ju9fYEcUNQCkwGLhbxNuXLYAxxnRsxdiUUqplqpudBk2E8Gi7o2n3GjuPorET8pRSyv/s+RZKDupoJx/RRKCUCjwb50BoJAw63+5I2ozb3XoXHdVEoZQKLG43bPoIks+FiFi7o2kzjyx+k9EvX8n2/IM+37YmCqVUYMleCcX7YXhwjXb6Ys/nVIUcIKlzV59vWxOFUiqwZM0FR4R1/kSQ2FNYQBEbGNLhNBwhDp9vP6AShV7hTqkg53ZbiSJ5AkQGz6DMf678GAlxcs3wSa2y/YBKFHpmtlJBbt8aOJwddKOdlmQvQlxxXDLslFbZfkAlCqVUkMuaAyFhMPgCuyNpM9meZqfBseNbpdkJNFEopQKFMVaz08CzIaqT3dG0mRdXVTc7TW61fWiiUEoFhv1roXB38DU77bGanS4d3jrNTqCJQikVKDbOgZBQGHKR3ZG0mbZodgJNFEqpQFDd7NT/TIjuYnc0baYtmp1AE4VSKhAcWA+HdgZds9PS7NZvdgJNFEqpQJA1F8QBQ1vnPAJ/tLeogELT+s1OoIlCKdXeGQMb3oP+p0NMvN3RtJkXV36ChDiZNvziVt+XJgqlVPuWvQoO7YK0qXZH0qaWZC9EXHFcPnx8q+9LE4VSqn3LfMcqKT6sdTt0/UlbNjuBJgqlVHvmqoKNH8CQC4OqtlNbNjtB45dCVUop/7V9MZTlQ/o0uyNpU0uyFyLutml2Aj2iUEq1Z5mzIaozDJxgdyRtpq2bnaAdJAoRGSAi/xKR9+yORSnlRyqKYfM8SLkMQsPtjqbNeJudhrVNsxO0cqIQkVdEJEdENtSafoGIfC8i20TkgYa2YYzZYYy5uTXjVEq1Q5vngbM86Jqdqk+yuzylbZqdoPX7KF4FngNer54gIg7gH8BEIBtYKSIfAQ7gj7XWn26MyWnlGJVS7VHmbOjUF/qcZHckbWZvUQGHzHqGxE5ss2YnaOVEYYxZJiJJtSaPA7YZY3YAiMjbwCXGmD8Ctp1W6XYbnl64haSuMVw5OtGuMJRSTVF8EHYsgdN+CSJ2R9Nmqpudrh7Wtl+VdvRR9Ab21Hie7ZlWJxGJF5EXgVEi8mADy90mIqtEZFVubm6zg3Ibw3d7DvHrD9fz3e5DzV5fKdWGNn4Axg3pwXWSnR3NTmBPoqgr/Zv6FjbG5BtjfmKMGeg56qhvuZnGmDHGmDEJCQnNDirUEcJz12TQvWMEt/9nNQcPH2n2NpRSbSRzNvQcAQlD7I6kzewvKuSQWc+g2FPbtNkJ7EkU2UCfGs8TgX2+2LCITBaRmUVFRS1a/4dtb/P7swsoqXBy+39Wc6TK5YuwlFK+lLfNujZ2kJXseGHlR57RTm3fQm9HolgJDBKR/iISDlwNfOSLDRtjPjbG3BYXF9fsdasqSvnV6id5av2j/GlSAmv3FPK7ORswpt6DHaWUHdbPBgRSr7A7kja1xNPsdEUbNztB6w+PnQV8DQwRkWwRudkY4wTuAj4HNgGzjTEbWzOOpgiLiGHGuAfZG2JYsOmn3H1WP95dnc1r/9tld2hKqWrGWLWdBpwJHXvaHU2b8TY7xbR9sxO0cqIwxlxjjOlpjAkzxiQaY/7lmT7fGDPY0+/wRGvG0BwZqddyb8+zWUopMeVPcO6w7vx+3ib+ty3P7tCUUhC0lWKrm52mDrdnYKjfn5ndHCfaRwFw7cS/cVFYAv8oWs+1A5cyoGsMd761hj0FZT6MVCnVIkFYKRaONjtdaUOzEwRYojiRPopqEhLCw5e9T7IJ5aGt/2bGxCrcbsOtr6+itMLpw2iVUs0SpJVi9x+2t9kJAixR+Ep0VGeemfhP3Ah/WvlLnrmiH1sOFnPvu+u0c1spu2xfYlWKDbJmp+qT7K5qw9pOtQVUovBF01O1vokn8cfUn7DJYViy7nYeOH8In244wHOLt/kgUqVUs2W+Y1WKTT7X7kja1OI9CxBXHFelnmZbDAGVKHzR9FTTmWPv4vbOo5jjKqBT6VNcNqo3f1m4hYVZB32yfaVUEwVppdjqZqdkG5udIMASRWu44+JXGB/SgT/mLuf65DWkJ8bxi3fWsvVgsd2hKRU8grRSbHWz01Qbm51AE0WjHI5Q/nTJu3Q3Ifxq3V/484URRIY5uPX1VRSVVdkdnlLBIQgrxQIs3rPQ9mYnCLBE4cs+ipriOvbmr2c8SVGI8Odlt/H8tKHsLSznrllrcLm1c1upVlWSY1WKTbsqqCrFWs1OmbY3O0GAJQpf91HUNGzg+Tw0cCorQ5wsX30rj01J4autefz5s80+35dSqoYN71uVYoNstNM//aTZCQIsUbS2Kac/xLSYgfy7Ipv4khe54eR+/HPZDuZ8t9fu0JQKXJmzoUc6dBtqdyRtyl+anUATRbPdf8nbpBPJ73Z/xA2DtzKufxfufz+T9dm+be5SSnG0UmyQdWLvP1xIgclkYMwptjc7gSaKZgsLi+TpSW8QSQj/9/Xv+MukLnSNjeC2/6wit7jC7vCUCixBWim2utnJjpLidQmoRNFandm1dY8fwlPjfsseBzy98AZevDaNQ2WV3PHGaiqd7lbdt1JBwxir2an/GUFVKRb8q9kJAixRtGZndm1jU6bxi94TWSTlrFj5U568cgSrfjjEwx/pNSyU8onsVXBoZ/A1OxX7V7MTBFiiaGs/OvdpLojoybPFWSSUvMEdZw1k1oo9vPHtbrtDU6r9Wz87KCvFzqyu7TTU/tFO1TRRnAAR4dFLZjOAMH71/WtcN/gAZw9J4NGPNvLtjny7w1Oq/cPZhI4AACAASURBVHJVWcNig6xSLMAXexYiro5MTT3d7lC8NFGcoOioTvz1vJeoFOG+JT/jz1MS6RsfzZ1vriH7kF7DQqkWCdJKsQeKiyhwZzIw+lRCHf7R7ASaKHwiqdcYnki/iw2h8I9503jphgwqnW5u/89qyitddoenVPsTpJVi/7nyY09J8YvsDuUYAZUo2mrUU10mjP4Jt8SP4X1TyLpvf8nfrhlJ1v7D/Or9TO3cVqo5Kkrg+/lBVykWajY7nWF3KMcIqETRlqOe6nLXhS9xiqMTT+R9Q/fSj7jv/CF8vG4fL365w5Z4lGqXNs+DqjJtdvIjAZUo7GZVmp1NPCH8Yu0zXD2kmEnpPfnz55u57fVV/GPJNr7ckktBaaXdoSrlvzLfCcpKsTNX+WezE0Co3QEEms4devLXs57mR1/+nPs/vYmnr1pMh8hQvtlRwIIaFzzq3SmK9MQ40hLjSOtt3TpFB9dhtlLHqa4Ue9ovICS4fscu2u2fzU6giaJVpPQ/l9/uu4aHtr3NKx9fzR+v+RxEKCqvYuO+ItZnF5G5t4gNe4v4dMMB73p9ukSR3rsTqb3jSE+MI7VXHHHRYTa+EqXaWJBWij3oaXYaFH2u3zU7gSaKVnPZ+N+w7uAaXi7eQuqiXzFh4pPERYVx6sCunDqwq3e5orIqNuwrIjPbShyZewuZt36/d36/+GjvEUdaYhypvePoGKnJQwWoIK0U+89V1SfZ+V+zE2iiaFW/nvIW3791Or/Jns+Rj/I5Z+zdRPUcecwycdFhjE/uyvjko8njUGnlMcnju92FfJJ5NHn07xpDWu84RvfrzLSxfYgM879fIEo1W3Wl2PMetzuSNudtdkrzv2Yn0ETRqsJDI/jrpDe5+eOreeDQSqI/u44J7ggu7nM2J425i9Au/etcr3NMOKcPSuD0QQneaQWllaz3NFdlZhey+odDfLRuH/9avpPHLknhrCHd2uplKdU6vJVir7Q7kjZlNTutIzl6gl82OwFIII3xF5HJwOTk5ORbt27danc4Xm7jZvWuRcxb9y8WFG6iWAzxThcXhnTk4oGTSMn4CRLbtfEN1fL19nx+M2c9O3JLuTi9Jw9NGk73jpGt8AqUamXGwLOjrNFOP/7I7mja1GNL3uTd3TN4cMSzXDvybNviEJHVxpgxdc4LpERRbcyYMWbVqlV2h1GnClcFX21+j3lZb/Fl6W6qBJKqnFwU0YNJQ6bSZ8T1ENGh6dtzunhp2Q7+vngbYY4Q7j1vMDeckoQjJHiuLawCwJ6V8K9z4ZJ/wKjr7Y6mTZ352o0ccm1lzY+X2XpEoYnCTx2uKGLR+tf5ZOsHrKrIxYiQXlHFRbEDuCDtRuKHXdrkM1N/yC/lt3M28NXWPNJ6x/GHy9JIS7TnxEOlmm3+fbDmdbh3C0QGz+f2YHERE947i+SoCcy5+ilbY9FE0Q4cKN7Pp2v/ybwfPud7VwkOYzilwsnFXdI5Z9RtRA84p9Fx5cYY5q3fz6MfZ5FfUsGPTknil+cN1lFSyr+5quAvQyHpNJj6mt3RtKnfL3mT2btncP+IZ7nexmYn0ETR7mzN38S8NS8yf/9y9ptKotxuzq6EST1P4ZSMOwjtnQFSf9PS4SNV/OXz73n9mx9IiI3g4ckpXJTWA2lgHaVss2UBvHUVXD0L/HR4aGupbnZa/aMvCQu1d2yRJop2ym3cfLf3a+ate4nP89ZyGBddXC7Od4Uxqe95pI28CYkfCKERda6/bk8hv/5wPRv3HebMwQn8/pJU+sZHt/GrUKoR798C2xbB/20JqiKA/tTsBA0nCh0e68dCJITRieMZnTieB1yVLN/xGfM2vMb7RVuYdeAzenzyCX2rnCQQSrfQaLqFdyIhuivdYnvTLa4fwzoPYu4VvZm9JYY/LM1h4l+/5O4Jg7j19AGEhwZXeQTlpypKrCKA6dOCKkkAzPScZHelH13Jrj6aKNqJcEc45wyawjmDplBcWcyize/x3x3zOXgkn7VVxeS4K6gyOVCaA6VZ4Ckr1cnlIsHlYnxPQ5wrjOy14cxY25HhPfowrPtAEjol0aXzIEI7JUKHnvUenSjVKqorxQbZdbHBOskOVwem+dGV7OqjiaId6hDegcvSb+Ky9Ju804wxFFUUcbDsILml+8kt2E5O0S5ySvaSU55LbkUh25yl5LmrcEsBVBbAnnWwB0KMId7lopvLRYJxMCSyK9My7iIh5aqgK8ym2ljmOxAXfJVic0oOk+85yc7uvomm8P8IVZOICJ0iO9EpshNDugyBPmfVuZzT7WTf4Vz+sWw1n6//jvioXDL6VBIZfpjcinz2VhaxzHmIV1b/nsnf/IEfD/8RA8bdCWFRbfuCVOAL4kqxM1dazU5XDPH/ZicIsM5sfz0z219tOVjMbz/cwIpdBYxN6szjl6YxpEcHdhdu5/X/Ps6c3FVUCJx9xMn0fhcx8vQHIab5Z5ArVadvXoTP7oc7vw26IoBnvnYjBa4trPnRMr85otBRT6pexhjeXZ3NH+dvoviIk1tOH8DdE5KJDg8lvyyPWd/+mVm7P+cwbkZVVHJT/GjOPONhQhKG2B26au9mng3uKvjJcrsjaXUut4ucshyyS7LZnPcDf1r5hN+MdqqmiUI1qqC0khmfbmL2qmw6RIYypl9nxvbvwkn9uzCwWzjzNszktc1vsd9dwYDKKm6M6sfFpz5AeP+zGjynQ6k65W2D50ZblWJP/Znd0Zwwt3GTV57HvpJ9ZJdks69kH3tL9rK3eC97S/ZyoPQATuP0Lm/coTxx0gtcMvxkG6M+liYK1WQrdxXwwZpsVuwsYHtuKQARoSGM7NOJsUkdCYv8H8uyX2eLs5BuTifXmQ5cNeZuOqRdDQ7/OIRWPmJM6/0IWPIH+PLP8Mss6NirdfbhQ8YYDlUcsr74S60E4E0GJdbjSvexlzjuGtWVXrG96B3bm0hJ4L+b3Ow6EEFa9/48MeV0Unp2senV1E0ThWqRvJIKVu0qYMXOQ6zcVcDGfUW4DThCYHDiLiKjP2SbHCTG7WZqhXB9yo/oNvYnENnR7tBVS7jdsP872LYYtn8B2asgLhF6jYSeIz33IyCq84ntpx1UinUbNysOrOCDrR+w9dBW9pbspdxZfswynSI6eRNBYmyi93HvDr3pFdOLyNBIyiqd/G3RVl5evpOOkaH8+qJhXDk60S+rJGiiUD5RfKSKNbsLWbmzgBW7Cli7pxBX6A/0if+Igg57cGC4uLSSab0nknb2g9aXjPJvxQdg+2LY9oU1Aqks35recyT0OxWKsmH/WijcfXSdzkk1EofnvjnJI3sVvDzBLyvFFh4pZO72uby75V1+OPwDnSI6MarbKCsBVN88iSA2PLbBbS3YeIBHP85ib2E5V4/tw/0XDKVzjP+eVKiJQrWKCqeLzOwiVuwsYPmu79lX/AbFHTZSFWI4s7Sc8c7BdBp6D4NGnsrAhFi//BUVdJwVsPsb64hh22I4uN6aHtMNBp4DyRNgwNkQm3DsemUFVsLYt/bofeEPR+d36lfryGMkRNfTtDL/Plj9Gty31S8qxRpjWJe7jne+f4cFuxZQ6a4ko1sGVw25ion9JhLhaN5JqNmHynjkoywWbTrIkO4deOKyVMYk+VczU100Uag24XIbvv1hN2999wKrij6nNMTJyCMVnHwojk2VV1DS+yySu3dkcPcODOoeS3K3WDpoZdvWZQwU7LCOGLYtgl3LoaoUQsKg78lWYhg4AbqnQkgIbuNme+F21hxcw+ZDm0nqmERGtwyGxg8lLKTW36qsAPav8ySO7+pIHn1rHXmMsq614ieVYksqS/hkxyfM3jKbrYe2EhMWw+QBk7lqyFUM7jy42durcrn51/Kd/G2RNTT/5+cOYvpp/QlztI9zRDRRqDZX7ixnTtZb/DvzZfa7SkiqrGJiaRUx5fGUlvdnm3MgG00SFR2SGNijE4O6xWoC8ZUjh2HnMs9RwxdHv7y7DLCSQvIESDodImKpclexOX8zqw+uZnXOar7L+Y6iiiIAYsNiKakqASAqNIr0hHQyumWQ0T2D9K7pRIfVUWDymOThOfo4tOvo/NjuUHIQrn4LbKpxtCl/E7O3zGbejnmUO8sZ1mUYU4dM5aL+F9X9mppg5a4CfvvhBr4/WMzE4d15ZEoKvTu1r5NUNVEo2zjdThbt+IzXv3uO9WV7vdOTKqtIq6hkaKWbTlXdyC9NYqMriQ3u/mwzvegWF8ug7h00gTSF2w0H1llJYfti2PMtuJ0QHgv9zzjapNRlAOXOctbnrvcmhszcTG8nbb+O/byJYHS30SR2SCS3PJfvcr5jzcE1rMlZw/cF32MwOMTBsC7DGNV9FKO7jWZU91F0iayneaX8kJU8qhOHqwqu/HebFgEsd5bz+a7Pmf39bNbnrSfSEcmF/S9k6pCppMSntLhZ9FBpJTM+3cw7q/bQKy6SR6akcF5KDx9H3zY0USi/UFxZzMb8jazPWUvmvm9YX7CZfKc1BDfMGIZVVJJWUcnwShcJpgcFVf35prwPa51JbDGJVBBOr7jI4xJIUnwMnaLD/K8PxO2yviTL8o/eKoqtfgJnBbgqwFkJziO1HnvunZWe6TWXr35cYxnnEevENYAe6Uebk/qcRJGrnLU5a1mds5rVB1eTlZ+F0+1EEAZ3Hszo7qPJ6J5BRrcMEqITGn49WH/DdbnrvIljfe5677DQpI5JjO4+mlHdRpHRPYPEWPtH9+wo3MG7W95l7va5FFcWMyBuAFOHTGXywMl0DG/56LzaJ6refFp/7p4wiJiI9jtEXBOF8kvGGA6UHmB93nrW564j88AqNhVupdzzpRfndpN6pIL0ikpSKp0khvQiz5HM6sq+LCvuxTpnH8qJBKBDZCj94qPp2yWavl1iajyOplenqBO/hrjbDUcKraaVml/83ptnenkBpiyP4vIC8qpKyHeEkO9weO+rEKKNmxi3IdbtJtoYYtyGGAklJiSUmJBwYkIiiHGEEx4aCY5wCI20fn07IqzqvqERtR6HQ7dhMPAcckJgzcE13iOGbYe2YTCEhoSSGp9qHS10H83IbiNP6IuyWqWrkqz8LFYftJqt1uSsobiyGIBuUd0Y1X2U9yhlUKdBOEJa/5rQVa4qvtj9BbO3zGblgZWEhoQysd9Epg6eyujuo084edUsfTOmX2cevyyVoT3a/5BwTRSq3XC6nWwv3O5JHplkHlzD9uLdGKzPaaLTTdqRctIrKkmtrKJvWA9cRFPhMhxxGiqc1r0bcGN1IhpCCA91EBEWSkSYg8jwMCI991HhoTgcDkBAQqwTzESsxFB+NCmY8kMUCTW++B1HE0BoOPnhEeQ7wsh3QD5uqjj+/yoEISwkjIpaJ2bVJzQklNiwWGLCYogOiyYmNIaY8BjrPizGOz06NJqdRTtZk7OGPcV7AKtPYWTCSG9iSOuaRmRopE/+Rg2p2Rm+Jse6HSg9AFh9HiO6jSAlPoWo0CgiHBGEh4QT7qhxC6nnsSOcCEcEYSFh3nm1k052cTbvbXmPD7d9SMGRAnrH9uaqwVdxafKlxEfFn/BrK6t08uwX23j5qx3ERoby4IVDuWp0H0JO9EeIn9BEodq10qpSsvKzjiaPnHXkHMkDIASIQAhFcID33mEg5JibIcQNYgwhBkKNta7DGMIQwgTCEMIFwgQkRCgMC6MgRMgXNwXuKpy4j4stVBx0iYwnPiqeLlFdiPc8ruu+U0QnHCEOnG4npVWllFWVUVpVSqmzlNJKz31VqXdeSVXJsctV32otZzB0iuh0tH+h+2iGdhlKaIh/NIPsL9lvdZQftI44thVu88l2QyWUMEeYN+HkluciIpyZeCZTh0zl1F6nEiK+GXH0xaaDPDR3I3sLy7lqdCIPXjSMLn58TkRLaKJQAedg6UE25G1gU8EmjjiP4DROnG4nLuOy7t0unMZzXz3ds0yF00lZZSXlVVWUV1VS4XJS6ayi0rMe4gIE44whjI7EhXchITqexI7dGdClB8O79aJ/5x7ER8UTFxHnsy+jlnAbN0ecR4gMjbQ1juZwGzeVrkoq3ZXWvedW4aqgyl1V5+NKVyVV7irv45rrVi/bI6YHlyVfRo8Y33UmZx8q47GPs1iQdZBB3WJ5/NJUThpw4kcn/qhdJwoRuRS4GOgG/MMYs6CxdTRRqJaqcLrIPlTOrrxStuWUsNVz23awmNJKl3e5ztFhDOrWgeTusQzqFms97hZL944RtnfgqpYpKq9i494iMvcWsT67iMy9hewpKCcyLIR7Jgzm5tP6B/QlhG1LFCLyCjAJyDHGpNaYfgHwN8ABvGyMmdGEbXUGnjLG3NzYspoolK8ZYzhw+AhbD3oSR06x93FReZV3uQ4Rod7kkVwjgfTuFBUwbdmBoKTCyQZvQihiw94iduaVeuf36RJFeu9OpPaOY1J6T/p0adn5Fe2JnYniDKAEeL06UYiIA9gCTASygZXANVhJ44+1NjHdGJPjWe8vwJvGmDWN7VcThWorxhjySirZmlPMtpwS6yjEk0DySiq8y0WFORjYLYbETtFEhzuICnd47kOJrn4c5iDa87x6vneZMAfREQ7CHSF6xNJMZZVOsvYdJjO7iPV7i8jMLmRHXinVX3294iJJS4wjPbETab3jSOsd59c1mVpLQ4miVXu7jDHLRCSp1uRxwDZjzA5PcG8Dlxhj/oh19HEMsf4rZgCfNiVJKNWWRISEDhEkdIjg1IHHXv3vUGkl23JrJo9iduSVUFbporzSZd1XuerZct0cIUJ02PGJplNUGF1jI4iPDffeJ8RG0LVDBPEx4XSODg+KI5ojVS6y9h9mw94iKzFkF7E1pxi3Jyl06xBBemIcU0b0Jj0xjtTecSR0aF4tp2Bkx7CI3sCeGs+zgYaurP4z4FwgTkSSjTEv1rWQiNwG3AbQt29fH4WqVMt1jglnbEwXxjZQEM7tNhxxuo5JHmWVzqOPq1yUVzoprbCSSlmls9ayLsqrnOwvOsL6vUXkl1bictcxNFegS0wEXT2JpKs3odScFkHXDuF0iQknIvT48x2cLjdlVS7KKo7GUR3vcY8rrPvSSk/8nphLK51UVLm9o5AF8TwWhOppECLinY9Y8R9d1poPR9cLEThwuIItB4u9rz8+Jpz0xDjOT+1Beu840hLj6N6x9YcIByI7EkVdP2vqbf8yxjwLPNvYRo0xM4GZYDU9tTg6pdpQSIh4mpt886/odhuKyqvIL60gt7iSvJIK8ksqyCupPGbaDwWl5BVX1ntE0zEylM4x4ThdhlLPl3+l8/jhwQ2xms6ONq1FhzuIjQglPsbqEHYbq+nOYNUudHvagowBg8Httu6tedYMt3d56756ugG6xoZzztABpPXuRHpiHD3jIrWZzkfsSBTZQJ8azxOBfb7YsIhMBiYnJyf7YnNKtTshIULnmHA6x4ST3K3x5csqneQVV5JbM6GUVJBXUsGhsirCHCHERFhNXTHeL/2aX/6hREdYj2PCQ73LRYZpX0ogsSNRrAQGiUh/YC9wNXCtLzZsjPkY+HjMmDG3+mJ7SgW66PBQ+saH0jc+8Ef1qJZr1UHBIjIL+BoYIiLZInKzMcYJ3AV8DmwCZhtjNrZmHEoppVqutUc9XVPP9PnAfF/vT5uelFLK9wLqNENjzMfGmNvi4uy/vKJSSgWKgEoUSimlfE8ThVJKqQYFVKIQkckiMrOoqMjuUJRSKmAEVKLQPgqllPK9gEoUSimlfM/vr0fREiKSC/xgdxy1dAXy7A6iidpTrNC+4m1PsUL7irc9xQr+F28/Y0xCXTMCMlH4IxFZVV8JX3/TnmKF9hVve4oV2le87SlWaF/xatOTUkqpBmmiUEop1SBNFG1npt0BNEN7ihXaV7ztKVZoX/G2p1ihHcWrfRRKKaUapEcUSimlGqSJQimlVIM0UbQiEekjIktEZJOIbBSRe+yOqTEi4hCR70TkE7tjaYyIdBKR90Rks+c9PsXumBoiIr/wfA42iMgsEfGbCziLyCsikiMiG2pM6yIiC0Vkq+e+s50x1lRPvE96PguZIvKhiHSyM8ZqdcVaY969ImJEpKsdsTWVJorW5QT+zxgzDDgZ+KmIDLc5psbcg3VBqfbgb8BnxpihwAj8OG4R6Q3cDYwxxqQCDqyrO/qLV4ELak17APjCGDMI+MLz3F+8yvHxLgRSjTHpwBbgwbYOqh6vcnysiEgfYCKwu60Dai5NFK3IGLPfGLPG87gY64ust71R1U9EEoGLgZftjqUxItIROAP4F4AxptIYU2hvVI0KBaJEJBSIxkfXivcFY8wyoKDW5EuA1zyPXwMubdOgGlBXvMaYBZ4raAJ8AyS2eWB1qOe9Bfgr8CvA70cUaaJoIyKSBIwCvrU3kgY9g/XBddsdSBMMAHKBf3uayl4WkRi7g6qPMWYv8BTWr8f9QJExZoG9UTWquzFmP1g/eoBuNsfTHNOBT+0Ooj4iMgXYa4xZZ3csTaGJog2ISCzwPvBzY8xhu+Opi4hMAnKMMavtjqWJQoEM4AVjzCigFP9qGjmGp33/EqA/0AuIEZHr7Y0qMInIb7Cafd+0O5a6iEg08BvgIbtjaSpNFK1MRMKwksSbxpgP7I6nAeOBKSKyC3gbOEdE3rA3pAZlA9nGmOojtPewEoe/OhfYaYzJNcZUAR8Ap9ocU2MOikhPAM99js3xNEpEfgxMAq4z/nuS2ECsHwzrPP9vicAaEelha1QN0ETRikREsNrQNxljnrY7noYYYx40xiQaY5KwOlkXG2P89hevMeYAsEdEhngmTQCybAypMbuBk0Uk2vO5mIAfd757fAT82PP4x8BcG2NplIhcANwPTDHGlNkdT32MMeuNMd2MMUme/7dsIMPzmfZLmiha13jgBqxf52s9t4vsDiqA/Ax4U0QygZHAH2yOp16eI5/3gDXAeqz/Pb8p4SAis4CvgSEiki0iNwMzgIkishVrdM4MO2OsqZ54nwM6AAs9/2sv2hqkRz2xtitawkMppVSD9IhCKaVUgzRRKKWUapAmCqWUUg3SRKGUUqpBmiiUUko1SBOFajYR6SEib4vIdhHJEpH5IjK4Ffd3Vkur2YrIFBF5wPP40pYUZRSRZ0TkjBbu/xERubcl654oT1mTBl+viCwVkTGNLNPi998XROQuEbnJrv0rTRSqmTwni30ILDXGDDTGDAd+DXS3N7K6GWM+MsZUj/+/FGhWohCRLsDJnsJu7Yox5hZjjF+dhCgijhas9gpW5V1lE00UqrnOBqqMMd6TmYwxa40xX4nlSc/1FtaLyDTw/iL9UkRmi8gWEZkhIteJyArPcgM9y70qIi+KyFee5SbV3rmIxHjq+6/0FAO8xDP9lyLyiudxmieGaBG5UUSeE5FTgSnAk56TsQaKyJoa2x0kInXVuboS+KzGcrtE5E+e2FeISLJnej8R+UKsayF8ISJ9a8Vd7/4823xURNZ43o+hnuldRGSOZ5vfiEi6Z/ojIvKaiCzwrHu5iPzZs+5nYpWNOeZoQUReEJFVYl0P49HG/sgicoFY13ZYDlzehPc/2vP3zRSRd0Tk2xr7LhGRx0TkW+AUERnt+TysFpHP5WiZkIGe+Fd7PgNDPZ+vMmCXiIxrLG7VOjRRqOZKBeorHHg51hnSI7BqGz1Z/SXgmXYPkIZ1tvpgY8w4rJLmP6uxjSTgTKxy5y/K8Rf3+Q1WeZGxWEnrSbGqxj4DJIvIZcC/gdtrlnEwxvwPqyTFfcaYkcaY7UCRiIz0LHIT1nUDahtfx+s97In9Oc9+8Tx+3XMthDeBZ2uu0IT95RljMoAXgOqmqkeB7zzb/DXweo3lB3reo0uAN4Alxpg0oNwzvbbfGGPGAOnAmdVJpy6e9/wlYDJwOlCzBlF97/+dwCFPrL8HRtdYJwbYYIw5Cat68t+BK40xo7GOFp7wLDcT+Jln+r3A8zW2scoTi7KBJgrlS6cBs4wxLmPMQeBLYKxn3krP9TkqgO1AdYnt9VjJodpsY4zbGLMV2AEMrbWP84AHRGQtsBSIBPoaY9zAjcB/gC+NMf9tQrwvAzd5mkOmAW/VsUxPrHLmNc2qcV99Vb1Taqz/H6z3ojn7qy4YuZqj78dpnm1hjFkMxItInGfep57iguuxLoJUfdRT+/2sNtVzRPMdkELDTXBDsQoYbvUU1qtZHLLO998T69ueWDcAmTXWcWEVxgQYgvVjY6FnG78FEsWqsHwq8K5n+j+x3vtqOVhVd5UNQu0OQLU7G7GaY+oiDaxXUeOxu8ZzN8d+DmvXlKn9XIArjDHf17GPQUAJTf9CeR94GFgMrDbG5NexTDnWl2F9MdVXA6eu6Q3tr/r9cHH0/ajr/azebgWAMcYtIlU1KqXWfj8Rkf5Yv9DHGmMOicirdbympsRfHdNx77+INPS3P2KMcdVYf6Mx5pjL1op1IapCY8zI49a2RGL9LZQN9IhCNddiIEJEbq2eICJjReRMYBkwTazrbidgXYFuRTO3f5WIhHj6LQYAtRPC58DPqr+YRGSU5z4O69KoZ2D98q4rmRVjFY0DwBhzxLO9F7Caq+qyCUiuNW1ajfuvPY//x9FLm14HLK+9oSbur6Zlnm0hImdhNU+15HomHbGu11EkIt2BCxtZfjPQ3/M3ALimxrw633+s1zvVM204VhNjXb4HEsRzfXMRCRORFM/r2ikiV3mmi4iMqLHeYOC4a06rtqGJQjWL55frZVhVRbeLyEbgEazLen6I1eSwDiuh/KoFpZO/x2qy+hT4iefLtabfA2FAplgXq/+9Z/pfgeeNMVuAm4EZIlL7imxvA/d5OmGrvwTfxPr1XN/V5uYBZ9WaFuHpmL0H+IVn2t1YzUqZWH0w99Szvcb2V9MjwBjPNmdwtOR3s3iuovYd1tHgK0CDzXKe9/w2YJ6nM/uHGrPre/+fx0oAmVilvjOBojq2XYl1RPonvcMpWAAAALxJREFUEVkHrOXodTmuA272TN+I1f9SbTywqKmvWfmWVo9VfsPTJPKJMea9NtznvUCcMeZ3DSyzHJhkjCkU60IzY4wxea21v/bI0+8SZow54knCX2ANWKj0wbZHAb80xtxwottSLaN9FCpoiciHWKOHzmlk0f/D6rAtbKP9tUfRwBLP0FwB7vBFkvDoCgRUYm1v9IhCKaVUg7SPQimlVIM0USillGqQJgqllFIN0kShlFKqQZoolFJKNej/AdIMPJeTcx9RAAAAAElFTkSuQmCC\n",
>>>>>>> master
      "text/plain": [
       "<Figure size 432x288 with 1 Axes>"
      ]
     },
     "metadata": {
      "needs_background": "light"
     },
     "output_type": "display_data"
    },
    {
     "data": {
<<<<<<< HEAD
      "image/png": "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\n",
=======
      "image/png": "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\n",
>>>>>>> master
      "text/plain": [
       "<Figure size 432x288 with 1 Axes>"
      ]
     },
     "metadata": {
      "needs_background": "light"
     },
     "output_type": "display_data"
    }
   ],
   "source": [
    "np.random.seed(47309275)\n",
    "max_degree = 13\n",
    "n = 1000\n",
    "noise_factor = .1\n",
    "n_bootstraps = 100\n",
    "\n",
    "degree = np.linspace(1, max_degree, max_degree)\n",
    "MSE_test = np.zeros(max_degree)\n",
    "MSE_train = np.zeros(max_degree)\n",
    "MSE_test_bootstrap = np.zeros(max_degree)\n",
    "\n",
    "bias = np.zeros(max_degree)\n",
    "variance = np.zeros(max_degree)\n",
    "error = np.zeros(max_degree)\n",
    "\n",
    "noise = noise_factor*np.random.randn(n)\n",
    "x = np.random.uniform(0,1,n)\n",
    "y = np.random.uniform(0,1,n)\n",
    "\n",
    "z = FrankeFunction(x,y) + noise\n",
    "\n",
    "for i in range(max_degree):\n",
    "    N = i #polynomial degree\n",
    "    X = create_X(x, y, N)\n",
    "    \n",
    "    X_train, X_test, z_train, z_test = train_test_split(X,z,test_size=0.2)\n",
    "\n",
    "    scaler = StandardScaler(with_mean = True, with_std = False)\n",
    "    scaler.fit(X_train)\n",
    "    X_train_scaled = scaler.transform(X_train)\n",
    "    X_test_scaled = scaler.transform(X_test)\n",
    "    \n",
    "    #Perform regular OLS\n",
    "    beta = np.linalg.inv(X_train.T @ X_train) @ X_train.T @ z_train\n",
    "    z_tilde = X_train @ beta\n",
    "    z_predict = X_test @ beta\n",
    "    MSE_train[i] = MSE(z_train,z_tilde)\n",
    "    MSE_test[i] = MSE(z_test,z_predict)\n",
    "    \n",
    "    #Perform OLS with bootstrap resampling\n",
    "    MSE_test_bootstrap_values = np.zeros(n_bootstraps)\n",
    "    z_predicted_bootstrap = np.empty((X_test.shape[0], n_bootstraps))\n",
    "    \n",
    "    \n",
    "    for j in range(n_bootstraps):\n",
    "        X_train_resample, z_train_resample = resample(X_train, z_train, replace=True)\n",
    "        beta = np.linalg.inv(X_train_resample.T @ X_train_resample) @ X_train_resample.T @ z_train_resample\n",
    "        z_predicted_bootstrap[:, j] = X_test @ beta\n",
    "        MSE_test_bootstrap_values[j] = MSE(z_test, z_predicted_bootstrap[:, j]) \n",
    "    \n",
    "    MSE_test_bootstrap[i] = np.mean(MSE_test_bootstrap_values)\n",
    "    \n",
    "    bias[i] = np.mean( (z_test - np.mean(z_predicted_bootstrap, axis=1))**2 )\n",
    "    variance[i] = np.mean(np.var(z_predicted_bootstrap, axis=1))\n",
    "    \n",
    "plt.figure()\n",
    "plt.ylabel('MSE')\n",
    "plt.xlabel('Complexity (polynomial degree)')\n",
    "plt.plot(degree, MSE_train, label='MSE - training') \n",
    "plt.plot(degree, MSE_test_bootstrap, label='MSE - test from bootstrap') \n",
    "plt.plot(degree, MSE_test, label='MSE - test')\n",
    "plt.yscale('log')\n",
    "plt.legend()\n",
    "plt.savefig('figures/mse_test_training_bootstrap')\n",
    "plt.show()\n",
    "\n",
    "plt.figure()\n",
    "plt.xlabel('Complexity')\n",
    "plt.plot(degree, bias, label='Bias')\n",
    "plt.plot(degree, variance, label='Variance')\n",
    "plt.plot(degree, MSE_test_bootstrap, label='MSE - test from bootstrap')\n",
    "plt.yscale('log')\n",
    "plt.legend()\n",
    "plt.savefig('figures/bias_variande_tradeoff_bootstrap')\n",
    "plt.show()"
   ]
  },
  {
   "cell_type": "markdown",
   "metadata": {},
   "source": [
    "Implement k-fold cross validation"
   ]
  },
  {
   "cell_type": "code",
<<<<<<< HEAD
   "execution_count": 45,
=======
   "execution_count": 9,
>>>>>>> master
   "metadata": {},
   "outputs": [
    {
     "data": {
<<<<<<< HEAD
=======
<<<<<<< HEAD
=======
      "image/png": "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\n",
>>>>>>> master
>>>>>>> 86eed3db24291e7ecff1714d2990db51ab8475b8
      "text/plain": [
       "0.09627123419413229"
      ]
     },
     "metadata": {},
     "output_type": "display_data"
    },
    {
     "data": {
      "text/plain": [
       "0.09627123419413229"
      ]
     },
     "metadata": {},
     "output_type": "display_data"
    },
    {
     "data": {
      "text/plain": [
       "0.0"
      ]
     },
     "metadata": {},
     "output_type": "display_data"
    },
    {
     "data": {
      "text/plain": [
       "0.0351259605996767"
      ]
     },
     "metadata": {},
     "output_type": "display_data"
    },
    {
     "data": {
      "text/plain": [
       "0.0351259605996767"
      ]
     },
     "metadata": {},
     "output_type": "display_data"
    },
    {
     "data": {
      "text/plain": [
       "0.0"
      ]
     },
     "metadata": {},
     "output_type": "display_data"
    },
    {
     "data": {
      "text/plain": [
       "0.029344051505602486"
      ]
     },
     "metadata": {},
     "output_type": "display_data"
    },
    {
     "data": {
      "text/plain": [
       "0.029344051505602486"
      ]
     },
     "metadata": {},
     "output_type": "display_data"
    },
    {
     "data": {
      "text/plain": [
       "0.0"
      ]
     },
     "metadata": {},
     "output_type": "display_data"
    },
    {
     "data": {
      "text/plain": [
       "0.019210197104157105"
      ]
     },
     "metadata": {},
     "output_type": "display_data"
    },
    {
     "data": {
      "text/plain": [
       "0.019210197104157105"
      ]
     },
     "metadata": {},
     "output_type": "display_data"
    },
    {
     "data": {
      "text/plain": [
       "0.0"
      ]
     },
     "metadata": {},
     "output_type": "display_data"
    },
    {
     "data": {
      "text/plain": [
       "0.015164573709089016"
      ]
     },
     "metadata": {},
     "output_type": "display_data"
    },
    {
     "data": {
      "text/plain": [
       "0.015164573709089016"
      ]
     },
     "metadata": {},
     "output_type": "display_data"
    },
    {
     "data": {
      "text/plain": [
       "0.0"
      ]
     },
     "metadata": {},
     "output_type": "display_data"
    },
    {
     "data": {
      "text/plain": [
<<<<<<< HEAD
       "0.013401262404623887"
=======
       "0.013401262404608632"
>>>>>>> 86eed3db24291e7ecff1714d2990db51ab8475b8
      ]
     },
     "metadata": {},
     "output_type": "display_data"
    },
    {
     "data": {
      "text/plain": [
<<<<<<< HEAD
       "0.013401262404623887"
=======
       "0.013401262404608632"
>>>>>>> 86eed3db24291e7ecff1714d2990db51ab8475b8
      ]
     },
     "metadata": {},
     "output_type": "display_data"
    },
    {
     "data": {
      "text/plain": [
       "0.0"
      ]
     },
     "metadata": {},
     "output_type": "display_data"
    },
    {
     "data": {
      "text/plain": [
<<<<<<< HEAD
       "0.012490972295097312"
=======
       "0.012490972285852192"
>>>>>>> 86eed3db24291e7ecff1714d2990db51ab8475b8
      ]
     },
     "metadata": {},
     "output_type": "display_data"
    },
    {
     "data": {
      "text/plain": [
<<<<<<< HEAD
       "0.012490972295097312"
=======
       "0.012490972285852192"
>>>>>>> 86eed3db24291e7ecff1714d2990db51ab8475b8
      ]
     },
     "metadata": {},
     "output_type": "display_data"
    },
    {
     "data": {
      "text/plain": [
       "0.0"
      ]
     },
     "metadata": {},
     "output_type": "display_data"
    },
    {
     "data": {
      "text/plain": [
<<<<<<< HEAD
       "0.011601414875853843"
=======
       "0.01160141488126016"
>>>>>>> 86eed3db24291e7ecff1714d2990db51ab8475b8
      ]
     },
     "metadata": {},
     "output_type": "display_data"
    },
    {
     "data": {
      "text/plain": [
<<<<<<< HEAD
       "0.011601414875853843"
=======
       "0.01160141488126016"
>>>>>>> 86eed3db24291e7ecff1714d2990db51ab8475b8
      ]
     },
     "metadata": {},
     "output_type": "display_data"
    },
    {
     "data": {
      "text/plain": [
       "0.0"
      ]
     },
     "metadata": {},
     "output_type": "display_data"
    },
    {
     "data": {
      "text/plain": [
<<<<<<< HEAD
       "0.011403684246311621"
=======
       "0.01140368153680601"
>>>>>>> 86eed3db24291e7ecff1714d2990db51ab8475b8
      ]
     },
     "metadata": {},
     "output_type": "display_data"
    },
    {
     "data": {
      "text/plain": [
<<<<<<< HEAD
       "0.011403684246311621"
=======
       "0.01140368153680601"
>>>>>>> 86eed3db24291e7ecff1714d2990db51ab8475b8
      ]
     },
     "metadata": {},
     "output_type": "display_data"
    },
    {
     "data": {
      "text/plain": [
       "0.0"
      ]
     },
     "metadata": {},
     "output_type": "display_data"
    },
    {
     "data": {
      "text/plain": [
<<<<<<< HEAD
       "0.011619886874026476"
=======
       "0.01162008046740607"
>>>>>>> 86eed3db24291e7ecff1714d2990db51ab8475b8
      ]
     },
     "metadata": {},
     "output_type": "display_data"
    },
    {
     "data": {
      "text/plain": [
<<<<<<< HEAD
       "0.011619886874026476"
=======
       "0.01162008046740607"
>>>>>>> 86eed3db24291e7ecff1714d2990db51ab8475b8
      ]
     },
     "metadata": {},
     "output_type": "display_data"
    },
    {
     "data": {
      "text/plain": [
       "0.0"
      ]
     },
     "metadata": {},
     "output_type": "display_data"
    },
    {
     "data": {
      "text/plain": [
<<<<<<< HEAD
       "0.01204883227468657"
=======
       "0.01204793086519725"
>>>>>>> 86eed3db24291e7ecff1714d2990db51ab8475b8
      ]
     },
     "metadata": {},
     "output_type": "display_data"
    },
    {
     "data": {
      "text/plain": [
<<<<<<< HEAD
       "0.01204883227468657"
=======
       "0.01204793086519725"
>>>>>>> 86eed3db24291e7ecff1714d2990db51ab8475b8
      ]
     },
     "metadata": {},
     "output_type": "display_data"
    },
    {
     "data": {
      "text/plain": [
       "0.0"
      ]
     },
     "metadata": {},
     "output_type": "display_data"
    },
    {
     "data": {
      "text/plain": [
<<<<<<< HEAD
       "0.013910328358307123"
=======
       "0.01356797175334517"
>>>>>>> 86eed3db24291e7ecff1714d2990db51ab8475b8
      ]
     },
     "metadata": {},
     "output_type": "display_data"
    },
    {
     "data": {
      "text/plain": [
<<<<<<< HEAD
       "0.013910328358307123"
=======
       "0.01356797175334517"
>>>>>>> 86eed3db24291e7ecff1714d2990db51ab8475b8
      ]
     },
     "metadata": {},
     "output_type": "display_data"
    },
    {
     "data": {
      "text/plain": [
       "0.0"
      ]
     },
     "metadata": {},
     "output_type": "display_data"
    },
    {
     "data": {
      "text/plain": [
<<<<<<< HEAD
       "0.02867051741628617"
=======
       "0.05493473026171665"
>>>>>>> 86eed3db24291e7ecff1714d2990db51ab8475b8
      ]
     },
     "metadata": {},
     "output_type": "display_data"
    },
    {
     "data": {
      "text/plain": [
<<<<<<< HEAD
       "0.02867051741628617"
      ]
     },
     "metadata": {},
     "output_type": "display_data"
    },
    {
     "data": {
      "text/plain": [
       "0.0"
      ]
     },
     "metadata": {},
     "output_type": "display_data"
    },
    {
     "data": {
      "text/plain": [
       "0.03318810885175588"
      ]
     },
     "metadata": {},
     "output_type": "display_data"
    },
    {
     "data": {
      "text/plain": [
       "0.03318810885175588"
      ]
     },
     "metadata": {},
     "output_type": "display_data"
    },
    {
     "data": {
      "text/plain": [
       "0.0"
      ]
     },
     "metadata": {},
     "output_type": "display_data"
    },
    {
     "data": {
      "text/plain": [
       "0.06678643989496034"
      ]
     },
     "metadata": {},
     "output_type": "display_data"
    },
    {
     "data": {
      "text/plain": [
       "0.06678643989496034"
=======
       "0.05493473026171665"
>>>>>>> 86eed3db24291e7ecff1714d2990db51ab8475b8
      ]
     },
     "metadata": {},
     "output_type": "display_data"
    },
    {
     "data": {
      "text/plain": [
       "0.0"
      ]
     },
     "metadata": {},
     "output_type": "display_data"
    },
    {
     "name": "stderr",
     "output_type": "stream",
     "text": [
<<<<<<< HEAD
      "/Users/Julian/anaconda3/lib/python3.7/site-packages/numpy/core/_asarray.py:83: VisibleDeprecationWarning: Creating an ndarray from ragged nested sequences (which is a list-or-tuple of lists-or-tuples-or ndarrays with different lengths or shapes) is deprecated. If you meant to do this, you must specify 'dtype=object' when creating the ndarray\n",
=======
      "/Users/tellefs/anaconda3/lib/python3.7/site-packages/numpy/core/_asarray.py:83: VisibleDeprecationWarning: Creating an ndarray from ragged nested sequences (which is a list-or-tuple of lists-or-tuples-or ndarrays with different lengths or shapes) is deprecated. If you meant to do this, you must specify 'dtype=object' when creating the ndarray\n",
>>>>>>> 86eed3db24291e7ecff1714d2990db51ab8475b8
      "  return array(a, dtype, copy=False, order=order)\n"
     ]
    },
    {
     "data": {
      "text/plain": [
       "0.09642017868218275"
      ]
     },
     "metadata": {},
     "output_type": "display_data"
    },
    {
     "data": {
      "text/plain": [
       "0.09642017868218275"
      ]
     },
     "metadata": {},
     "output_type": "display_data"
    },
    {
     "data": {
      "text/plain": [
       "0.0"
      ]
     },
     "metadata": {},
     "output_type": "display_data"
    },
    {
     "data": {
      "text/plain": [
       "0.03496811276131307"
      ]
     },
     "metadata": {},
     "output_type": "display_data"
    },
    {
     "data": {
      "text/plain": [
       "0.03496811276131307"
      ]
     },
     "metadata": {},
     "output_type": "display_data"
    },
    {
     "data": {
      "text/plain": [
       "0.0"
      ]
     },
     "metadata": {},
     "output_type": "display_data"
    },
    {
     "data": {
      "text/plain": [
       "0.029119377271794"
      ]
     },
     "metadata": {},
     "output_type": "display_data"
    },
    {
     "data": {
      "text/plain": [
       "0.029119377271794"
      ]
     },
     "metadata": {},
     "output_type": "display_data"
    },
    {
     "data": {
      "text/plain": [
       "0.0"
      ]
     },
     "metadata": {},
     "output_type": "display_data"
    },
    {
     "data": {
      "text/plain": [
       "0.01906891691575836"
      ]
     },
     "metadata": {},
     "output_type": "display_data"
    },
    {
     "data": {
      "text/plain": [
       "0.01906891691575836"
      ]
     },
     "metadata": {},
     "output_type": "display_data"
    },
    {
     "data": {
      "text/plain": [
       "0.0"
      ]
     },
     "metadata": {},
     "output_type": "display_data"
    },
    {
     "data": {
      "text/plain": [
       "0.015143885842918444"
      ]
     },
     "metadata": {},
     "output_type": "display_data"
    },
    {
     "data": {
      "text/plain": [
       "0.015143885842918444"
      ]
     },
     "metadata": {},
     "output_type": "display_data"
    },
    {
     "data": {
      "text/plain": [
       "0.0"
      ]
     },
     "metadata": {},
     "output_type": "display_data"
    },
    {
     "data": {
      "text/plain": [
<<<<<<< HEAD
       "0.013380616688845229"
      ]
     },
     "metadata": {},
     "output_type": "display_data"
    },
    {
     "data": {
      "text/plain": [
       "0.013380616688845229"
      ]
     },
     "metadata": {},
     "output_type": "display_data"
    },
    {
     "data": {
      "text/plain": [
       "0.0"
      ]
     },
     "metadata": {},
     "output_type": "display_data"
    },
    {
     "data": {
      "text/plain": [
       "0.012414969088029333"
      ]
     },
     "metadata": {},
     "output_type": "display_data"
    },
    {
     "data": {
      "text/plain": [
       "0.012414969088029333"
      ]
     },
     "metadata": {},
     "output_type": "display_data"
    },
    {
     "data": {
      "text/plain": [
       "0.0"
      ]
     },
     "metadata": {},
     "output_type": "display_data"
    },
    {
     "data": {
      "text/plain": [
       "0.011470140026428577"
=======
       "0.013380616688822828"
>>>>>>> 86eed3db24291e7ecff1714d2990db51ab8475b8
      ]
     },
     "metadata": {},
     "output_type": "display_data"
    },
    {
     "data": {
      "text/plain": [
<<<<<<< HEAD
       "0.011470140026428577"
=======
       "0.013380616688822828"
>>>>>>> 86eed3db24291e7ecff1714d2990db51ab8475b8
      ]
     },
     "metadata": {},
     "output_type": "display_data"
    },
    {
     "data": {
      "text/plain": [
       "0.0"
      ]
     },
     "metadata": {},
     "output_type": "display_data"
    },
    {
     "data": {
      "text/plain": [
<<<<<<< HEAD
       "0.011322680241567221"
=======
       "0.012414969098335173"
>>>>>>> 86eed3db24291e7ecff1714d2990db51ab8475b8
      ]
     },
     "metadata": {},
     "output_type": "display_data"
    },
    {
     "data": {
      "text/plain": [
<<<<<<< HEAD
       "0.011322680241567221"
=======
       "0.012414969098335173"
>>>>>>> 86eed3db24291e7ecff1714d2990db51ab8475b8
      ]
     },
     "metadata": {},
     "output_type": "display_data"
    },
    {
     "data": {
      "text/plain": [
       "0.0"
      ]
     },
     "metadata": {},
     "output_type": "display_data"
    },
    {
     "data": {
      "text/plain": [
<<<<<<< HEAD
       "0.011492045734403914"
=======
       "0.01147014002114853"
>>>>>>> 86eed3db24291e7ecff1714d2990db51ab8475b8
      ]
     },
     "metadata": {},
     "output_type": "display_data"
    },
    {
     "data": {
      "text/plain": [
<<<<<<< HEAD
       "0.011492045734403914"
=======
       "0.01147014002114853"
>>>>>>> 86eed3db24291e7ecff1714d2990db51ab8475b8
      ]
     },
     "metadata": {},
     "output_type": "display_data"
    },
    {
     "data": {
      "text/plain": [
       "0.0"
      ]
     },
     "metadata": {},
     "output_type": "display_data"
    },
    {
     "data": {
      "text/plain": [
<<<<<<< HEAD
       "0.011815134856206578"
=======
       "0.011322681758433267"
>>>>>>> 86eed3db24291e7ecff1714d2990db51ab8475b8
      ]
     },
     "metadata": {},
     "output_type": "display_data"
    },
    {
     "data": {
      "text/plain": [
<<<<<<< HEAD
       "0.011815134856206578"
=======
       "0.011322681758433267"
>>>>>>> 86eed3db24291e7ecff1714d2990db51ab8475b8
      ]
     },
     "metadata": {},
     "output_type": "display_data"
    },
    {
     "data": {
      "text/plain": [
       "0.0"
      ]
     },
     "metadata": {},
     "output_type": "display_data"
    },
    {
     "data": {
      "text/plain": [
<<<<<<< HEAD
       "0.012836918665739357"
=======
       "0.011491984339982048"
>>>>>>> 86eed3db24291e7ecff1714d2990db51ab8475b8
      ]
     },
     "metadata": {},
     "output_type": "display_data"
    },
    {
     "data": {
      "text/plain": [
<<<<<<< HEAD
       "0.012836918665739357"
=======
       "0.011491984339982048"
>>>>>>> 86eed3db24291e7ecff1714d2990db51ab8475b8
      ]
     },
     "metadata": {},
     "output_type": "display_data"
    },
    {
     "data": {
      "text/plain": [
       "0.0"
      ]
     },
     "metadata": {},
     "output_type": "display_data"
    },
    {
     "data": {
      "text/plain": [
<<<<<<< HEAD
       "0.056420510887743316"
=======
       "0.011812134118356247"
>>>>>>> 86eed3db24291e7ecff1714d2990db51ab8475b8
      ]
     },
     "metadata": {},
     "output_type": "display_data"
    },
    {
     "data": {
      "text/plain": [
<<<<<<< HEAD
       "0.056420510887743316"
=======
       "0.011812134118356247"
>>>>>>> 86eed3db24291e7ecff1714d2990db51ab8475b8
      ]
     },
     "metadata": {},
     "output_type": "display_data"
    },
    {
     "data": {
      "text/plain": [
       "0.0"
      ]
     },
     "metadata": {},
     "output_type": "display_data"
    },
    {
     "data": {
      "text/plain": [
<<<<<<< HEAD
       "0.28581000752333724"
=======
       "0.012720813434574445"
>>>>>>> 86eed3db24291e7ecff1714d2990db51ab8475b8
      ]
     },
     "metadata": {},
     "output_type": "display_data"
    },
    {
     "data": {
      "text/plain": [
<<<<<<< HEAD
       "0.28581000752333724"
=======
       "0.012720813434574445"
>>>>>>> 86eed3db24291e7ecff1714d2990db51ab8475b8
      ]
     },
     "metadata": {},
     "output_type": "display_data"
    },
    {
     "data": {
      "text/plain": [
       "0.0"
      ]
     },
     "metadata": {},
     "output_type": "display_data"
    },
    {
     "data": {
      "text/plain": [
<<<<<<< HEAD
       "0.04808844321995622"
=======
       "0.1086065502010662"
>>>>>>> 86eed3db24291e7ecff1714d2990db51ab8475b8
      ]
     },
     "metadata": {},
     "output_type": "display_data"
    },
    {
     "data": {
      "text/plain": [
<<<<<<< HEAD
       "0.04808844321995622"
=======
       "0.1086065502010662"
>>>>>>> 86eed3db24291e7ecff1714d2990db51ab8475b8
      ]
     },
     "metadata": {},
     "output_type": "display_data"
    },
    {
     "data": {
      "text/plain": [
       "0.0"
      ]
     },
     "metadata": {},
     "output_type": "display_data"
    },
    {
     "data": {
      "text/plain": [
       "0.09630524455725348"
      ]
     },
     "metadata": {},
     "output_type": "display_data"
    },
    {
     "data": {
      "text/plain": [
       "0.09630524455725348"
      ]
     },
     "metadata": {},
     "output_type": "display_data"
    },
    {
     "data": {
      "text/plain": [
       "0.0"
      ]
     },
     "metadata": {},
     "output_type": "display_data"
    },
    {
     "data": {
      "text/plain": [
       "0.03496175011948244"
      ]
     },
     "metadata": {},
     "output_type": "display_data"
    },
    {
     "data": {
      "text/plain": [
       "0.03496175011948244"
      ]
     },
     "metadata": {},
     "output_type": "display_data"
    },
    {
     "data": {
      "text/plain": [
       "0.0"
      ]
     },
     "metadata": {},
     "output_type": "display_data"
    },
    {
     "data": {
      "text/plain": [
       "0.02917255546553136"
      ]
     },
     "metadata": {},
     "output_type": "display_data"
    },
    {
     "data": {
      "text/plain": [
       "0.02917255546553136"
      ]
     },
     "metadata": {},
     "output_type": "display_data"
    },
    {
     "data": {
      "text/plain": [
       "0.0"
      ]
     },
     "metadata": {},
     "output_type": "display_data"
    },
    {
     "data": {
      "text/plain": [
       "0.019109086236328"
      ]
     },
     "metadata": {},
     "output_type": "display_data"
    },
    {
     "data": {
      "text/plain": [
       "0.019109086236328"
      ]
     },
     "metadata": {},
     "output_type": "display_data"
    },
    {
     "data": {
      "text/plain": [
       "0.0"
      ]
     },
     "metadata": {},
     "output_type": "display_data"
    },
    {
     "data": {
      "text/plain": [
       "0.015246144791684266"
      ]
     },
     "metadata": {},
     "output_type": "display_data"
    },
    {
     "data": {
      "text/plain": [
       "0.015246144791684266"
      ]
     },
     "metadata": {},
     "output_type": "display_data"
    },
    {
     "data": {
      "text/plain": [
       "0.0"
      ]
     },
     "metadata": {},
     "output_type": "display_data"
    },
    {
     "data": {
      "text/plain": [
<<<<<<< HEAD
       "0.013446533052335091"
      ]
     },
     "metadata": {},
     "output_type": "display_data"
    },
    {
     "data": {
      "text/plain": [
       "0.013446533052335091"
      ]
     },
     "metadata": {},
     "output_type": "display_data"
    },
    {
     "data": {
      "text/plain": [
       "0.0"
      ]
     },
     "metadata": {},
     "output_type": "display_data"
    },
    {
     "data": {
      "text/plain": [
       "0.012518669501221638"
      ]
     },
     "metadata": {},
     "output_type": "display_data"
    },
    {
     "data": {
      "text/plain": [
       "0.012518669501221638"
      ]
     },
     "metadata": {},
     "output_type": "display_data"
    },
    {
     "data": {
      "text/plain": [
       "0.0"
      ]
     },
     "metadata": {},
     "output_type": "display_data"
    },
    {
     "data": {
      "text/plain": [
       "0.011508993124737259"
=======
       "0.013446533052363716"
>>>>>>> 86eed3db24291e7ecff1714d2990db51ab8475b8
      ]
     },
     "metadata": {},
     "output_type": "display_data"
    },
    {
     "data": {
      "text/plain": [
<<<<<<< HEAD
       "0.011508993124737259"
=======
       "0.013446533052363716"
>>>>>>> 86eed3db24291e7ecff1714d2990db51ab8475b8
      ]
     },
     "metadata": {},
     "output_type": "display_data"
    },
    {
     "data": {
      "text/plain": [
       "0.0"
      ]
     },
     "metadata": {},
     "output_type": "display_data"
    },
    {
     "data": {
      "text/plain": [
<<<<<<< HEAD
       "0.011291812822821106"
=======
       "0.012518669489466954"
>>>>>>> 86eed3db24291e7ecff1714d2990db51ab8475b8
      ]
     },
     "metadata": {},
     "output_type": "display_data"
    },
    {
     "data": {
      "text/plain": [
<<<<<<< HEAD
       "0.011291812822821106"
=======
       "0.012518669489466954"
>>>>>>> 86eed3db24291e7ecff1714d2990db51ab8475b8
      ]
     },
     "metadata": {},
     "output_type": "display_data"
    },
    {
     "data": {
      "text/plain": [
       "0.0"
      ]
     },
     "metadata": {},
     "output_type": "display_data"
    },
    {
     "data": {
      "text/plain": [
<<<<<<< HEAD
       "0.011539509488531234"
=======
       "0.011508993137110101"
>>>>>>> 86eed3db24291e7ecff1714d2990db51ab8475b8
      ]
     },
     "metadata": {},
     "output_type": "display_data"
    },
    {
     "data": {
      "text/plain": [
<<<<<<< HEAD
       "0.011539509488531234"
=======
       "0.011508993137110101"
>>>>>>> 86eed3db24291e7ecff1714d2990db51ab8475b8
      ]
     },
     "metadata": {},
     "output_type": "display_data"
    },
    {
     "data": {
      "text/plain": [
       "0.0"
      ]
     },
     "metadata": {},
     "output_type": "display_data"
    },
    {
     "data": {
      "text/plain": [
<<<<<<< HEAD
       "0.011752197631178216"
=======
       "0.011291820533491679"
>>>>>>> 86eed3db24291e7ecff1714d2990db51ab8475b8
      ]
     },
     "metadata": {},
     "output_type": "display_data"
    },
    {
     "data": {
      "text/plain": [
<<<<<<< HEAD
       "0.011752197631178216"
=======
       "0.011291820533491679"
>>>>>>> 86eed3db24291e7ecff1714d2990db51ab8475b8
      ]
     },
     "metadata": {},
     "output_type": "display_data"
    },
    {
     "data": {
      "text/plain": [
       "0.0"
      ]
     },
     "metadata": {},
     "output_type": "display_data"
    },
    {
     "data": {
      "text/plain": [
<<<<<<< HEAD
       "0.1188980857322282"
=======
       "0.011539490383434964"
>>>>>>> 86eed3db24291e7ecff1714d2990db51ab8475b8
      ]
     },
     "metadata": {},
     "output_type": "display_data"
    },
    {
     "data": {
      "text/plain": [
<<<<<<< HEAD
       "0.1188980857322282"
=======
       "0.011539490383434964"
>>>>>>> 86eed3db24291e7ecff1714d2990db51ab8475b8
      ]
     },
     "metadata": {},
     "output_type": "display_data"
    },
    {
     "data": {
      "text/plain": [
       "0.0"
      ]
     },
     "metadata": {},
     "output_type": "display_data"
    },
    {
     "data": {
      "text/plain": [
<<<<<<< HEAD
       "0.03515815340124524"
=======
       "0.011742550326413241"
>>>>>>> 86eed3db24291e7ecff1714d2990db51ab8475b8
      ]
     },
     "metadata": {},
     "output_type": "display_data"
    },
    {
     "data": {
      "text/plain": [
<<<<<<< HEAD
       "0.03515815340124524"
=======
       "0.011742550326413241"
>>>>>>> 86eed3db24291e7ecff1714d2990db51ab8475b8
      ]
     },
     "metadata": {},
     "output_type": "display_data"
    },
    {
     "data": {
      "text/plain": [
       "0.0"
      ]
     },
     "metadata": {},
     "output_type": "display_data"
    },
    {
     "data": {
      "text/plain": [
<<<<<<< HEAD
       "0.10036169598583584"
=======
       "0.06973495147969501"
>>>>>>> 86eed3db24291e7ecff1714d2990db51ab8475b8
      ]
     },
     "metadata": {},
     "output_type": "display_data"
    },
    {
     "data": {
      "text/plain": [
<<<<<<< HEAD
       "0.10036169598583584"
=======
       "0.06973495147969501"
>>>>>>> 86eed3db24291e7ecff1714d2990db51ab8475b8
      ]
     },
     "metadata": {},
     "output_type": "display_data"
    },
    {
     "data": {
      "text/plain": [
       "0.0"
      ]
     },
     "metadata": {},
     "output_type": "display_data"
    },
    {
     "data": {
      "text/plain": [
<<<<<<< HEAD
       "0.6526664805470261"
=======
       "0.2603343563999624"
>>>>>>> 86eed3db24291e7ecff1714d2990db51ab8475b8
      ]
     },
     "metadata": {},
     "output_type": "display_data"
    },
    {
     "data": {
      "text/plain": [
<<<<<<< HEAD
       "0.6526664805470261"
=======
       "0.2603343563999624"
>>>>>>> 86eed3db24291e7ecff1714d2990db51ab8475b8
      ]
     },
     "metadata": {},
     "output_type": "display_data"
    },
    {
     "data": {
      "text/plain": [
       "0.0"
      ]
     },
     "metadata": {},
     "output_type": "display_data"
    },
    {
     "data": {
<<<<<<< HEAD
      "image/png": "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\n",
=======
      "image/png": "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\n",
>>>>>>> 86eed3db24291e7ecff1714d2990db51ab8475b8
      "text/plain": [
       "<Figure size 720x720 with 1 Axes>"
      ]
     },
     "metadata": {
      "needs_background": "light"
     },
     "output_type": "display_data"
    }
   ],
   "source": [
    "np.random.seed(47309275)\n",
    "\n",
    "folds = np.array([5, 7, 10]) #number of folds\n",
    "\n",
    "degree = np.linspace(1, max_degree, max_degree)\n",
    "\n",
    "fig, ax = plt.subplots(figsize=(10, 10))\n",
    "\n",
    "for k_folds in folds:\n",
    "    \n",
    "    MSE_test_kfold = np.zeros(max_degree)\n",
    "    MSE_test_kfold_scikit = np.zeros(max_degree)\n",
    "    \n",
    "    for i in range(max_degree):\n",
    "        \n",
    "        X = create_X(x, y, i)\n",
    "        \n",
    "        #k-fold cross validation\n",
    "        z_split = np.array_split(z, k_folds)\n",
    "        X_split = np.array_split(X, k_folds)\n",
    "        MSE_test_kfold_values = np.zeros(k_folds)\n",
    "\n",
    "        for k in range(k_folds):\n",
    "            \n",
    "            z_test = z_split[k]\n",
    "            z_train = np.concatenate(np.delete(z_split, k, 0))\n",
    "\n",
    "            X_test = X_split[k] #picks out the kth matrix from X\n",
    "            X_train = np.concatenate(np.delete(X_split, k, 0)) #deletes the kth matrix, and leaves the rest\n",
    "            beta = np.linalg.inv(X_train.T @ X_train) @ X_train.T @ z_train\n",
    "            z_predict = X_test @ beta\n",
    "            MSE_test_kfold_values[k] = MSE(z_test,z_predict)\n",
    "            \n",
    "        MSE_test_kfold[i] = np.mean(MSE_test_kfold_values)\n",
    "        display(MSE_test_kfold[i])\n",
    "        \n",
    "        #k-fold cross validation using SciKit    \n",
    "        kfold_scikit = KFold(n_splits = k_folds)\n",
    "        MSE_test_kfold_values_scikit = np.zeros(k_folds)\n",
    "        \n",
    "        k=0\n",
    "        for train_inds, test_inds in kfold_scikit.split(X):\n",
    "            \n",
    "            X_train = X[train_inds]\n",
    "            z_train = z[train_inds]\n",
    "\n",
    "            X_test = X[test_inds]\n",
    "            z_test = z[test_inds]\n",
    "            \n",
    "            beta = np.linalg.inv(X_train.T @ X_train) @ X_train.T @ z_train\n",
    "            z_predict = X_test @ beta\n",
    "            MSE_test_kfold_values_scikit[k] = MSE(z_test,z_predict)\n",
    "            k+=1\n",
    "        \n",
    "        MSE_test_kfold_scikit[i] = np.mean(MSE_test_kfold_values_scikit)\n",
    "        display(MSE_test_kfold_scikit[i])\n",
    "        display(MSE_test_kfold_scikit[i]-MSE_test_kfold[i])\n",
    "\n",
    "    ax.plot(degree, MSE_test_kfold_scikit, 'o', label='MSE - test %.i-fold CV (SciKit)'%k_folds)   \n",
    "    ax.plot(degree, MSE_test_kfold, label='MSE - test %.i-fold CV'%k_folds)\n",
    "\n",
    "\n",
    "plt.ylabel('MSE', fontsize=18)\n",
    "plt.xlabel('Complexity (polynomial degree)', fontsize=18)\n",
    "#plt.plot(degree, MSE_train, label='MSE - training') \n",
    "ax.plot(degree, MSE_test_bootstrap, label='MSE - test from bootstrap')\n",
    "#plt.plot(degree, MSE_test, label='MSE - test')\n",
    "plt.yscale('log')\n",
    "ax.tick_params(axis='both', which='both', labelsize=18)\n",
    "ax.legend(fontsize=18, loc='upper left')\n",
    "plt.savefig('figures/mse_test_training_bootstrap')\n",
    "plt.show()"
   ]
  },
  {
   "cell_type": "markdown",
   "metadata": {},
   "source": [
    "Implement Ridge Regression on Franke data"
   ]
  },
  {
   "cell_type": "code",
   "execution_count": null,
   "metadata": {},
   "outputs": [],
   "source": []
  },
  {
   "cell_type": "markdown",
   "metadata": {},
   "source": [
    "Implement Lasso regression on Franke data"
   ]
  },
  {
   "cell_type": "code",
<<<<<<< HEAD
   "execution_count": 10,
   "metadata": {},
   "outputs": [
    {
     "data": {
      "image/png": "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\n",
      "text/plain": [
       "<Figure size 432x288 with 1 Axes>"
      ]
     },
     "metadata": {
      "needs_background": "light"
     },
     "output_type": "display_data"
    }
   ],
   "source": [
    "np.random.seed(47309275)\n",
    "max_degree = 15\n",
    "n = 1000\n",
    "noise_factor = .1\n",
    "n_bootstraps = 100\n",
    "\n",
    "degree = np.linspace(1, max_degree, max_degree)\n",
    "MSE_test = np.zeros(max_degree)\n",
    "MSE_train = np.zeros(max_degree)\n",
    "MSE_test_bootstrap = np.zeros(max_degree)\n",
    "\n",
    "bias = np.zeros(max_degree)\n",
    "variance = np.zeros(max_degree)\n",
    "error = np.zeros(max_degree)\n",
    "\n",
    "noise = noise_factor*np.random.randn(n)\n",
    "x = np.random.uniform(0,1,n)\n",
    "y = np.random.uniform(0,1,n)\n",
    "\n",
    "z = FrankeFunction(x,y) + noise\n",
    "\n",
    "#model_lasso = skl.Lasso(alpha=_lambda, fit_intercept=False).fit(X, z)\n",
    "\n",
    "\n",
    "def Lasso(x, y, z, n_lambda, max_degree, method):\n",
    "\n",
    "    \n",
    "    bias = np.zeros(max_degree)\n",
    "    variance = np.zeros(max_degree)\n",
    "    error = np.zeros(max_degree)\n",
    "    \n",
    "    _lambda = np.logspace(-8, -1, n_lambda)\n",
    "    #_lambda = [0.1]\n",
    "    \n",
    "    \n",
    "    if (method == 'Bootstrap'):\n",
    "        n_bootstraps = 100\n",
    "        MSE_test_bootstrap = np.zeros(max_degree)\n",
    "        \n",
    "        \n",
    "        clf_lasso = skl.Lasso(alpha=_lambda, fit_intercept=False).fit(X, z)\n",
    "        \n",
    "    if (method == 'k-fold_CV'):\n",
    "        k_folds = 10 #number of folds\n",
    "\n",
    "\n",
    "        MSE_lasso_kfold = np.zeros(max_degree)\n",
    "\n",
    "\n",
    "        for i in range(max_degree):\n",
    "            X = create_X(x, y, i)\n",
    "            z_split = np.array_split(z, k_folds)\n",
    "            X_split = np.array_split(X, k_folds)\n",
    "            MSE_test_kfold_values = np.zeros(k_folds)\n",
    "    \n",
    "            for k in range(k_folds):\n",
    "                z_test = z_split[k]\n",
    "                z_train = np.concatenate(np.delete(z_split, k, 0))\n",
    "        \n",
    "                X_test = X_split[k] #picks out the kth matrix from X\n",
    "                X_train = np.concatenate(np.delete(X_split, k, 0)) #deletes the kth matrix, and leaves the rest\n",
    "        \n",
    "                clf_lasso = skl.Lasso(alpha=_lambda[i], fit_intercept=False, normalize=True, tol=0.1).fit(X_train, z_train)\n",
    "                beta_lasso_kfold = clf_lasso.coef_\n",
    "            \n",
    "                z_tilde = X_train @ beta_lasso_kfold\n",
    "                z_predict = X_test @ beta_lasso_kfold\n",
    "                MSE_test_kfold_values[k] = MSE(z_test,z_predict)\n",
    "    \n",
    "            MSE_lasso_kfold[i] = np.mean(MSE_test_kfold_values)\n",
    "        \n",
    "        return MSE_lasso_kfold\n",
    "\n",
    "    \n",
    "plt.figure()\n",
    "plt.ylabel('MSE')\n",
    "plt.xlabel('Complexity (polynomial degree)')\n",
    "plt.plot(degree, Lasso(x,y,z,n_lambda=max_degree,max_degree=max_degree,method='k-fold_CV'), label='MSE -lasso_kfold') \n",
    "plt.yscale('log')\n",
    "plt.legend()\n",
    "plt.show()\n",
    "        \n"
   ]
=======
   "execution_count": null,
   "metadata": {},
   "outputs": [],
   "source": []
>>>>>>> 86eed3db24291e7ecff1714d2990db51ab8475b8
  },
  {
   "cell_type": "markdown",
   "metadata": {},
   "source": [
    "Prepare real data for analysis"
   ]
  },
  {
   "cell_type": "code",
   "execution_count": null,
   "metadata": {},
   "outputs": [],
   "source": []
  },
  {
   "cell_type": "markdown",
   "metadata": {},
   "source": [
    "Apply all three regression methods to the real data with cross-validation as resampling"
   ]
  },
  {
   "cell_type": "code",
   "execution_count": null,
   "metadata": {},
   "outputs": [],
   "source": []
  }
 ],
 "metadata": {
  "kernelspec": {
   "display_name": "Python 3",
   "language": "python",
   "name": "python3"
  },
  "language_info": {
   "codemirror_mode": {
    "name": "ipython",
    "version": 3
   },
   "file_extension": ".py",
   "mimetype": "text/x-python",
   "name": "python",
   "nbconvert_exporter": "python",
   "pygments_lexer": "ipython3",
   "version": "3.7.3"
  }
 },
 "nbformat": 4,
 "nbformat_minor": 4
}
