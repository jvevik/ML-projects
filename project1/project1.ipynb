{
 "cells": [
  {
   "cell_type": "markdown",
   "metadata": {},
   "source": [
    "Import "
   ]
  },
  {
   "cell_type": "code",
   "execution_count": 1,
   "metadata": {},
   "outputs": [],
   "source": [
    "import os\n",
    "import numpy as np\n",
    "import pandas as pd\n",
    "import matplotlib.pyplot as plt\n",
    "import sklearn.linear_model as skl\n",
    "from sklearn.metrics import mean_squared_error\n",
    "from sklearn.model_selection import  train_test_split\n",
    "from sklearn.preprocessing import MinMaxScaler, StandardScaler, Normalizer\n",
    "\n",
    "from numpy.random import randint, randn\n",
    "from time import time\n",
    "from scipy.stats import norm\n",
    "from sklearn.utils import resample"
   ]
  },
  {
   "cell_type": "markdown",
   "metadata": {},
   "source": [
    "Define Franke function"
   ]
  },
  {
   "cell_type": "code",
   "execution_count": 2,
   "metadata": {},
   "outputs": [],
   "source": [
    "def FrankeFunction(x,y):\n",
    "\tterm1 = 0.75*np.exp(-(0.25*(9*x-2)**2) - 0.25*((9*y-2)**2))\n",
    "\tterm2 = 0.75*np.exp(-((9*x+1)**2)/49.0 - 0.1*(9*y+1))\n",
    "\tterm3 = 0.5*np.exp(-(9*x-7)**2/4.0 - 0.25*((9*y-3)**2))\n",
    "\tterm4 = -0.2*np.exp(-(9*x-4)**2 - (9*y-7)**2)\n",
    "\treturn term1 + term2 + term3 + term4"
   ]
  },
  {
   "cell_type": "markdown",
   "metadata": {},
   "source": [
    "Create design matrix for for two dimensions"
   ]
  },
  {
   "cell_type": "code",
   "execution_count": 3,
   "metadata": {},
   "outputs": [],
   "source": [
    "def create_X(x, y, n):\n",
    "    #n is the order of the polynomial, in this project it will be 5\n",
    "    if len(x.shape) > 1:\n",
    "        x = np.ravel(x)\n",
    "        y = np.ravel(y)\n",
    "    N = len(x)\n",
    "    p = int((n+1)*(n+2)/2)  #Number of elements in beta, \n",
    "    X = np.ones((N, p))\n",
    "    \n",
    "    for i in range(1,n+1):\n",
    "        q = int(i*(i+1)/2)\n",
    "        for k in range(i+1):\n",
    "            X[:,q+k] = (x**(i-k))*(y**k)\n",
    "    \n",
    "    return X"
   ]
  },
  {
   "cell_type": "markdown",
   "metadata": {},
   "source": [
    "Define R2 score function"
   ]
  },
  {
   "cell_type": "code",
   "execution_count": 4,
   "metadata": {},
   "outputs": [],
   "source": [
    "def R2(y_data, y_model):\n",
    "    return 1 - np.sum((y_data - y_model) ** 2) / np.sum((y_data - np.mean(y_data)) ** 2)"
   ]
  },
  {
   "cell_type": "markdown",
   "metadata": {},
   "source": [
    "Define Mean Squared Error (MSE) function"
   ]
  },
  {
   "cell_type": "code",
   "execution_count": 5,
   "metadata": {},
   "outputs": [],
   "source": [
    "def MSE(y_data,y_model):\n",
    "    return np.sum((y_data-y_model)**2)/len(y_data)"
   ]
  },
  {
   "cell_type": "markdown",
   "metadata": {},
   "source": [
    "Make design matrix\n",
    "\n",
    "Normal distributed noise is added to the Franke-function "
   ]
  },
  {
   "cell_type": "code",
   "execution_count": 6,
   "metadata": {},
   "outputs": [],
   "source": [
    "n = 100 #size of x and y\n",
    "N = 5 #polynomial degree\n",
    "noise_factor = 0.01\n",
    "\n",
    "x = np.random.uniform(0,1,n)\n",
    "y = np.random.uniform(0,1,n)\n",
    "noise = noise_factor*np.random.randn(100,1)\n",
    "z = FrankeFunction(x,y) + noise\n",
    "\n",
    "X = create_X(x, y, N)\n",
    "\n",
    "DesignMatrix = pd.DataFrame(X)\n",
    "#display(DesignMatrix)"
   ]
  },
  {
   "cell_type": "markdown",
   "metadata": {},
   "source": [
    "Perform the Ordinary Least Square (OLS) method and print the MSE and R2 results"
   ]
  },
  {
   "cell_type": "code",
   "execution_count": 7,
   "metadata": {},
   "outputs": [
    {
     "name": "stdout",
     "output_type": "stream",
     "text": [
      "Training R2\n",
      "0.999176575983311\n",
      " \n",
      "Training MSE\n",
      "0.007894704609826223\n",
      " \n",
      "Test R2\n",
      "0.9976604333756594\n",
      " \n",
      "Test MSE\n",
      "0.022446426591437096\n"
     ]
    }
   ],
   "source": [
    "X_train, X_test, z_train, z_test = train_test_split(X,z,test_size=0.2)\n",
    "\n",
    "scaler = StandardScaler()\n",
    "scaler.fit(X_train)\n",
    "X_train_scaled = scaler.transform(X_train)\n",
    "X_test_scaled = scaler.transform(X_test)\n",
    "\n",
    "beta = np.linalg.inv(X_train.T @ X_train) @ X_train.T @ z_train\n",
    "\n",
    "z_tilde = X_train @ beta\n",
    "z_predict = X_test @ beta\n",
    "\n",
    "print(\"Training R2\")\n",
    "print(R2(z_train,z_tilde))\n",
    "print(' ')\n",
    "print(\"Training MSE\")\n",
    "print(MSE(z_train,z_tilde))\n",
    "print(' ')\n",
    "print(\"Test R2\")\n",
    "print(R2(z_test,z_predict))\n",
    "print(' ')\n",
    "print(\"Test MSE\")\n",
    "print(MSE(z_test,z_predict))"
   ]
  },
  {
   "cell_type": "markdown",
   "metadata": {},
   "source": [
    "Study the bias-variance trade-off by plotting the MSE for increasing model complexity (i.e. the number of polynomials)"
   ]
  },
  {
   "cell_type": "code",
   "execution_count": 23,
   "metadata": {},
   "outputs": [
    {
     "data": {
      "image/png": "[encoded data removed]",
      "text/plain": [
       "<Figure size 432x288 with 1 Axes>"
      ]
     },
     "metadata": {
      "needs_background": "light"
     },
     "output_type": "display_data"
    }
   ],
   "source": [
    "np.random.seed(47309275)\n",
    "max_degree = 20\n",
    "n = 400\n",
    "noise_factor = .1\n",
    "n_bootstraps = 100\n",
    "\n",
    "degree = np.linspace(1, max_degree, max_degree+1)\n",
    "MSE_test = np.zeros(max_degree+1)\n",
    "MSE_train = np.zeros(max_degree+1)\n",
    "MSE_test_bootstrap = np.zeros(max_degree+1)\n",
    "\n",
    "noise = noise_factor*np.random.randn(n)\n",
    "x = np.random.uniform(0,1,n)\n",
    "y = np.random.uniform(0,1,n)\n",
    "\n",
    "z = FrankeFunction(x,y) + noise\n",
    "\n",
    "for i in range(max_degree+1):\n",
    "    N = i #polynomial degree\n",
    "    X = create_X(x, y, N)\n",
    "    \n",
    "    X_train, X_test, z_train, z_test = train_test_split(X,z,test_size=0.2)\n",
    "\n",
    "    scaler = StandardScaler(with_mean = True, with_std = False)\n",
    "    scaler.fit(X_train)\n",
    "    X_train_scaled = scaler.transform(X_train)\n",
    "    X_test_scaled = scaler.transform(X_test)\n",
    "    \n",
    "    #Perform reguler OLS\n",
    "    beta = np.linalg.inv(X_train.T @ X_train) @ X_train.T @ z_train\n",
    "    z_tilde = X_train @ beta\n",
    "    z_predict = X_test @ beta\n",
    "    MSE_train[i] = MSE(z_train,z_tilde)\n",
    "    MSE_test[i] = MSE(z_test,z_predict)\n",
    "    \n",
    "    #Perform OLS with bootstrap resampling\n",
    "    MSE_test_bootstrap_values = np.zeros(n_bootstraps)\n",
    "    \n",
    "    for j in range(n_bootstraps):\n",
    "        X_train_resample, z_train_resample = resample(X_train, z_train, replace=True)\n",
    "        beta = np.linalg.inv(X_train_resample.T @ X_train_resample) @ X_train_resample.T @ z_train_resample\n",
    "        z_predict_bootstrap = X_test @ beta\n",
    "        MSE_test_bootstrap_values[j] = MSE(z_test, z_predict_bootstrap) \n",
    "    \n",
    "    MSE_test_bootstrap[i] = np.mean(MSE_test_bootstrap_values)\n",
    "\n",
    "plt.figure()\n",
    "plt.ylabel('MSE')\n",
    "plt.xlabel('Complexity (polynomial degree)')\n",
    "plt.plot(degree, MSE_train, label='MSE - training') \n",
    "plt.plot(degree, MSE_test_bootstrap, label='MSE - test from bootstrap') \n",
    "plt.plot(degree, MSE_test, label='MSE - test')\n",
    "plt.yscale('log')\n",
    "plt.legend()\n",
    "plt.show()"
   ]
  },
  {
   "cell_type": "markdown",
   "metadata": {},
   "source": [
    "Implement k-fold cross validation"
   ]
  },
  {
   "cell_type": "code",
   "execution_count": null,
   "metadata": {},
   "outputs": [],
   "source": []
  },
  {
   "cell_type": "markdown",
   "metadata": {},
   "source": [
    "Implement Ridge Regression on Franke data"
   ]
  },
  {
   "cell_type": "code",
   "execution_count": null,
   "metadata": {},
   "outputs": [],
   "source": []
  },
  {
   "cell_type": "markdown",
   "metadata": {},
   "source": [
    "Implement Lasso regression on Franke data"
   ]
  },
  {
   "cell_type": "code",
   "execution_count": null,
   "metadata": {},
   "outputs": [],
   "source": []
  },
  {
   "cell_type": "markdown",
   "metadata": {},
   "source": [
    "Prepare real data for analysis"
   ]
  },
  {
   "cell_type": "code",
   "execution_count": null,
   "metadata": {},
   "outputs": [],
   "source": []
  },
  {
   "cell_type": "markdown",
   "metadata": {},
   "source": [
    "Apply all three regression methods to the real data"
   ]
  },
  {
   "cell_type": "code",
   "execution_count": null,
   "metadata": {},
   "outputs": [],
   "source": []
  }
 ],
 "metadata": {
  "kernelspec": {
   "display_name": "Python 3",
   "language": "python",
   "name": "python3"
  },
  "language_info": {
   "codemirror_mode": {
    "name": "ipython",
    "version": 3
   },
   "file_extension": ".py",
   "mimetype": "text/x-python",
   "name": "python",
   "nbconvert_exporter": "python",
   "pygments_lexer": "ipython3",
   "version": "3.7.4"
  }
 },
 "nbformat": 4,
 "nbformat_minor": 4
}
